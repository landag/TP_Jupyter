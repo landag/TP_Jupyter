{
 "cells": [
  {
   "cell_type": "markdown",
   "metadata": {
    "toc": true
   },
   "source": [
    "<h1>Table of Contents<span class=\"tocSkip\"></span></h1>\n",
    "<div class=\"toc\"><ul class=\"toc-item\"><li><span><a href=\"#Quelques-notions-de-base-pour-créer/utiliser-des-Notebooks-Jupyter\" data-toc-modified-id=\"Quelques-notions-de-base-pour-créer/utiliser-des-Notebooks-Jupyter-1\"><span class=\"toc-item-num\">1&nbsp;&nbsp;</span>Quelques notions de base pour créer/utiliser des Notebooks Jupyter</a></span><ul class=\"toc-item\"><li><span><a href=\"#Georges-Landa-(LAAS-CNRS,-2020)\" data-toc-modified-id=\"Georges-Landa-(LAAS-CNRS,-2020)-1.1\"><span class=\"toc-item-num\">1.1&nbsp;&nbsp;</span>Georges Landa (LAAS-CNRS, 2020)</a></span></li><li><span><a href=\"#Introduction\" data-toc-modified-id=\"Introduction-1.2\"><span class=\"toc-item-num\">1.2&nbsp;&nbsp;</span>Introduction</a></span></li><li><span><a href=\"#Notions-de-base\" data-toc-modified-id=\"Notions-de-base-1.3\"><span class=\"toc-item-num\">1.3&nbsp;&nbsp;</span>Notions de base</a></span></li></ul></li><li><span><a href=\"#Quelques-commandes\" data-toc-modified-id=\"Quelques-commandes-2\"><span class=\"toc-item-num\">2&nbsp;&nbsp;</span>Quelques commandes</a></span><ul class=\"toc-item\"><li><span><a href=\"#En-mode-&quot;commande&quot;\" data-toc-modified-id=\"En-mode-&quot;commande&quot;-2.1\"><span class=\"toc-item-num\">2.1&nbsp;&nbsp;</span>En mode \"commande\"</a></span></li><li><span><a href=\"#En-mode-&quot;édition&quot;\" data-toc-modified-id=\"En-mode-&quot;édition&quot;-2.2\"><span class=\"toc-item-num\">2.2&nbsp;&nbsp;</span>En mode \"édition\"</a></span></li></ul></li><li><span><a href=\"#Syntaxe-des-Markdown\" data-toc-modified-id=\"Syntaxe-des-Markdown-3\"><span class=\"toc-item-num\">3&nbsp;&nbsp;</span>Syntaxe des Markdown</a></span><ul class=\"toc-item\"><li><span><a href=\"#Entêtes\" data-toc-modified-id=\"Entêtes-3.1\"><span class=\"toc-item-num\">3.1&nbsp;&nbsp;</span>Entêtes</a></span></li><li><span><a href=\"#Listes\" data-toc-modified-id=\"Listes-3.2\"><span class=\"toc-item-num\">3.2&nbsp;&nbsp;</span>Listes</a></span></li><li><span><a href=\"#Images\" data-toc-modified-id=\"Images-3.3\"><span class=\"toc-item-num\">3.3&nbsp;&nbsp;</span>Images</a></span></li><li><span><a href=\"#![Texte-alternatif](./chemin/image.jpg)\" data-toc-modified-id=\"![Texte-alternatif](./chemin/image.jpg)-3.4\"><span class=\"toc-item-num\">3.4&nbsp;&nbsp;</span>![Texte alternatif](./chemin/image.jpg)</a></span></li><li><span><a href=\"#Liens\" data-toc-modified-id=\"Liens-3.5\"><span class=\"toc-item-num\">3.5&nbsp;&nbsp;</span>Liens</a></span></li><li><span><a href=\"#Mise-en-forme\" data-toc-modified-id=\"Mise-en-forme-3.6\"><span class=\"toc-item-num\">3.6&nbsp;&nbsp;</span>Mise en forme</a></span></li><li><span><a href=\"#Citations\" data-toc-modified-id=\"Citations-3.7\"><span class=\"toc-item-num\">3.7&nbsp;&nbsp;</span>Citations</a></span></li><li><span><a href=\"#Echappement-de-caractères\" data-toc-modified-id=\"Echappement-de-caractères-3.8\"><span class=\"toc-item-num\">3.8&nbsp;&nbsp;</span>Echappement de caractères</a></span></li><li><span><a href=\"#Utilisateur--@mention\" data-toc-modified-id=\"Utilisateur--@mention-3.9\"><span class=\"toc-item-num\">3.9&nbsp;&nbsp;</span>Utilisateur  @mention</a></span></li><li><span><a href=\"#Références\" data-toc-modified-id=\"Références-3.10\"><span class=\"toc-item-num\">3.10&nbsp;&nbsp;</span>Références</a></span></li><li><span><a href=\"#Code-informatique-et-colorisation\" data-toc-modified-id=\"Code-informatique-et-colorisation-3.11\"><span class=\"toc-item-num\">3.11&nbsp;&nbsp;</span>Code informatique et colorisation</a></span></li><li><span><a href=\"#Liste-cochée\" data-toc-modified-id=\"Liste-cochée-3.12\"><span class=\"toc-item-num\">3.12&nbsp;&nbsp;</span>Liste cochée</a></span></li><li><span><a href=\"#Tables\" data-toc-modified-id=\"Tables-3.13\"><span class=\"toc-item-num\">3.13&nbsp;&nbsp;</span>Tables</a></span></li><li><span><a href=\"#Filets-ou-barres-de-séparation\" data-toc-modified-id=\"Filets-ou-barres-de-séparation-3.14\"><span class=\"toc-item-num\">3.14&nbsp;&nbsp;</span>Filets ou barres de séparation</a></span></li></ul></li><li><span><a href=\"#Exécuter-du-code-Python\" data-toc-modified-id=\"Exécuter-du-code-Python-4\"><span class=\"toc-item-num\">4&nbsp;&nbsp;</span>Exécuter du code Python</a></span><ul class=\"toc-item\"><li><span><a href=\"#On-peut-exécuter-du-code-python-dans-les-cellules\" data-toc-modified-id=\"On-peut-exécuter-du-code-python-dans-les-cellules-4.1\"><span class=\"toc-item-num\">4.1&nbsp;&nbsp;</span>On peut exécuter du code python dans les cellules</a></span></li></ul></li><li><span><a href=\"#Les-commandes-systèmes\" data-toc-modified-id=\"Les-commandes-systèmes-5\"><span class=\"toc-item-num\">5&nbsp;&nbsp;</span>Les commandes systèmes</a></span><ul class=\"toc-item\"><li><span><a href=\"#Exécuter-une-commande-shell--:-!\" data-toc-modified-id=\"Exécuter-une-commande-shell--:-!-5.1\"><span class=\"toc-item-num\">5.1&nbsp;&nbsp;</span>Exécuter une commande shell  : !</a></span></li><li><span><a href=\"#Les-commandes-magiques\" data-toc-modified-id=\"Les-commandes-magiques-5.2\"><span class=\"toc-item-num\">5.2&nbsp;&nbsp;</span>Les commandes magiques</a></span></li><li><span><a href=\"#La-commande-%lsmagic\" data-toc-modified-id=\"La-commande-%lsmagic-5.3\"><span class=\"toc-item-num\">5.3&nbsp;&nbsp;</span>La commande %lsmagic</a></span></li><li><span><a href=\"#Les-variables-d'environnement\" data-toc-modified-id=\"Les-variables-d'environnement-5.4\"><span class=\"toc-item-num\">5.4&nbsp;&nbsp;</span>Les variables d'environnement</a></span></li><li><span><a href=\"#Executer-un-programme-python-ou-un-notebook\" data-toc-modified-id=\"Executer-un-programme-python-ou-un-notebook-5.5\"><span class=\"toc-item-num\">5.5&nbsp;&nbsp;</span>Executer un programme python ou un notebook</a></span></li><li><span><a href=\"#Chargement-de-code-externe\" data-toc-modified-id=\"Chargement-de-code-externe-5.6\"><span class=\"toc-item-num\">5.6&nbsp;&nbsp;</span>Chargement de code externe</a></span></li><li><span><a href=\"#Passage-de-variables-entre-notebooks\" data-toc-modified-id=\"Passage-de-variables-entre-notebooks-5.7\"><span class=\"toc-item-num\">5.7&nbsp;&nbsp;</span>Passage de variables entre notebooks</a></span></li><li><span><a href=\"#Mesure-du-temps-d'exécution\" data-toc-modified-id=\"Mesure-du-temps-d'exécution-5.8\"><span class=\"toc-item-num\">5.8&nbsp;&nbsp;</span>Mesure du temps d'exécution</a></span></li><li><span><a href=\"#Import-/-Export-de-code\" data-toc-modified-id=\"Import-/-Export-de-code-5.9\"><span class=\"toc-item-num\">5.9&nbsp;&nbsp;</span>Import / Export de code</a></span></li><li><span><a href=\"#Temps-d'exécution-dans-les-fonctions-:-%prun\" data-toc-modified-id=\"Temps-d'exécution-dans-les-fonctions-:-%prun-5.10\"><span class=\"toc-item-num\">5.10&nbsp;&nbsp;</span>Temps d'exécution dans les fonctions : %prun</a></span></li><li><span><a href=\"#Utilisation-du-débogueur-de-python-:-%pdb\" data-toc-modified-id=\"Utilisation-du-débogueur-de-python-:-%pdb-5.11\"><span class=\"toc-item-num\">5.11&nbsp;&nbsp;</span>Utilisation du débogueur de python : %pdb</a></span></li><li><span><a href=\"#Passage-en-mode-haute-résolution-(retina)\" data-toc-modified-id=\"Passage-en-mode-haute-résolution-(retina)-5.12\"><span class=\"toc-item-num\">5.12&nbsp;&nbsp;</span>Passage en mode haute-résolution (retina)</a></span></li><li><span><a href=\"#Suppression-de-l'affichage-lié-à-la-dernière-instruction\" data-toc-modified-id=\"Suppression-de-l'affichage-lié-à-la-dernière-instruction-5.13\"><span class=\"toc-item-num\">5.13&nbsp;&nbsp;</span>Suppression de l'affichage lié à la dernière instruction</a></span></li></ul></li><li><span><a href=\"#Partager-son-notebook\" data-toc-modified-id=\"Partager-son-notebook-6\"><span class=\"toc-item-num\">6&nbsp;&nbsp;</span>Partager son notebook</a></span><ul class=\"toc-item\"><li><span><a href=\"#Exporter-dans-les-formats-de-base\" data-toc-modified-id=\"Exporter-dans-les-formats-de-base-6.1\"><span class=\"toc-item-num\">6.1&nbsp;&nbsp;</span>Exporter dans les formats de base</a></span></li><li><span><a href=\"#Exporter-via-GitHub\" data-toc-modified-id=\"Exporter-via-GitHub-6.2\"><span class=\"toc-item-num\">6.2&nbsp;&nbsp;</span>Exporter via GitHub</a></span></li><li><span><a href=\"#Exporter-via-Nbviewer\" data-toc-modified-id=\"Exporter-via-Nbviewer-6.3\"><span class=\"toc-item-num\">6.3&nbsp;&nbsp;</span>Exporter via Nbviewer</a></span></li></ul></li><li><span><a href=\"#Divers\" data-toc-modified-id=\"Divers-7\"><span class=\"toc-item-num\">7&nbsp;&nbsp;</span>Divers</a></span><ul class=\"toc-item\"><li><span><a href=\"#Affichage-des-données\" data-toc-modified-id=\"Affichage-des-données-7.1\"><span class=\"toc-item-num\">7.1&nbsp;&nbsp;</span>Affichage des données</a></span></li><li><span><a href=\"#Appel-à-la-documentation\" data-toc-modified-id=\"Appel-à-la-documentation-7.2\"><span class=\"toc-item-num\">7.2&nbsp;&nbsp;</span>Appel à la documentation</a></span></li><li><span><a href=\"#Nombre-de-processeurs\" data-toc-modified-id=\"Nombre-de-processeurs-7.3\"><span class=\"toc-item-num\">7.3&nbsp;&nbsp;</span>Nombre de processeurs</a></span></li><li><span><a href=\"#LaTeX\" data-toc-modified-id=\"LaTeX-7.4\"><span class=\"toc-item-num\">7.4&nbsp;&nbsp;</span>LaTeX</a></span></li></ul></li></ul></div>"
   ]
  },
  {
   "cell_type": "code",
   "execution_count": 2,
   "metadata": {
    "ExecuteTime": {
     "end_time": "2021-01-12T21:21:59.496721Z",
     "start_time": "2021-01-12T21:21:59.481441Z"
    }
   },
   "outputs": [
    {
     "data": {
      "text/html": [
       "@charset \"UTF-8\";\n",
       "<style type=\"text/css\">\n",
       "{\n",
       "}\n",
       "\n",
       "/* Permet de mettre le notebook sur 95% de la fenêtre */\n",
       ".container { width:95% !important; }\n",
       "\n",
       "/* Ajoute un fond colore au notebook */\n",
       "#notebook { \n",
       "/*    background-color: #0c870a !important;*/\n",
       "    background-color: #F7FF9D !important;\n",
       "    box-shadow: inset 20px 36px 20px -35px black !important;\n",
       "}\n",
       "\n",
       "/* coloration du fond (HTML) */\n",
       "body { background-color:#F7FF9D !mportant ;\n",
       "} \n",
       "\n",
       "/* Config. pour les lignes horizontales */\n",
       "hr { border: 1px solid red; }\n",
       "\n",
       "/* Ajout d'une marge en haut et en bas du notebook */\n",
       "div#notebook{ margin-top:10px; margin-bottom:10px; }\n",
       "\n",
       "/* Limite à 90% de la largeur utilisable */\n",
       "div.cell{ max-width:90%; margin-left:auto; margin-right:auto; }\n",
       "\n",
       "/* Ajoute de l'espace entre les cellules */\n",
       "div.input, div.output_wrapper{ margin-top:1em; margin-bottom:1em; }\n",
       "\n",
       "/* Ajoute un filet à gauche des parties textes */\n",
       "div.text_cell{\n",
       "\tmargin-top:-2px;\n",
       "\tmargin-bottom:-2px;\n",
       "\tpadding-top:2px;\n",
       "\tpadding-bottom:2px;\n",
       "\tborder-left:5px solid #FFAAFF;\n",
       "\tborder-collapse:collapse;\n",
       "\tborder-top:none;\n",
       "\tborder-bottom:none;\n",
       "}\n",
       "\n",
       "/*div.text_cell { width:600px; height:400px; background-color:#FFCC00; }*/\n",
       "\n",
       "/* configuration des entêtes */\n",
       "h1\n",
       "{\n",
       "\tfont-size: 40px;\n",
       "\t/*  text-shadow: -1px -1px #0c0, 1px 1px #060, -3px 0 4px #000;*/\n",
       "\tfont-family:Arial, Helvetica, sans-serif;\n",
       "\tcolor: #090;\n",
       "\tbackground-color: #FFAAFF;\n",
       "\tpadding:16px;\n",
       "\tfont-weight:lighter;\n",
       "\t-moz-box-shadow: 2px 2px 6px #888;  \n",
       "\t-webkit-box-shadow: 2px 2px 6px #888;  \n",
       "\tbox-shadow:2px 2px 6px #888;  \n",
       "\ttext-align:center;\n",
       "\tdisplay:block;\n",
       "\tmargin:16px;\n",
       "\t/*  background-image:url(images/background-h1-wood.jpg);  */\n",
       "}\n",
       "h2\n",
       "{\n",
       "\tfont-size: 24px; font-family:Arial, Helvetica, sans-serif; font-weight:lighter;\n",
       "\t/*  text-shadow: -1px -1px #0c0, 1px 1px #060, -3px 0 4px #000;*/\n",
       "\tcolor: #090; background-color: #FFAAFF;\n",
       "\tpadding:16px;\n",
       "\t-moz-box-shadow: 2px 2px 6px #888;  \n",
       "\t-webkit-box-shadow: 2px 2px 6px #888;\n",
       "\tbox-shadow:2px 2px 6px #888;  \n",
       "\ttext-align:left;\n",
       "\tdisplay:block;\n",
       "\tmargin:16px;\n",
       "\t/*  background-image:url(images/background-h1-wood.jpg);  */\n",
       "}\n",
       "h3\n",
       "{\n",
       "\tfont-size: 16px; font-family:Arial, Helvetica, sans-serif; font-weight:lighter;\n",
       "\t/*  text-shadow: -1px -1px #0c0, 1px 1px #060, -3px 0 4px #000;*/\n",
       "\tcolor: #090; background-color: #FFAAFF;\n",
       "\tpadding:16px;\n",
       "\t-moz-box-shadow: 2px 2px 6px #888;  \n",
       "\t-webkit-box-shadow: 2px 2px 6px #888;  \n",
       "\tbox-shadow:2px 2px 6px #888;  \n",
       "\ttext-align:left;\n",
       "\tdisplay:block;\n",
       "\tmargin:16px;\n",
       "\t/*  background-image:url(images/background-h1-wood.jpg);  */\n",
       "}\n",
       "h4\n",
       "{\n",
       "\tfont-size: 12px; font-family:Arial, Helvetica, sans-serif;\n",
       "\t/*  text-shadow: -1px -1px #0c0, 1px 1px #060, -3px 0 4px #000;*/\n",
       "\tcolor: #090;\n",
       "\tpadding:16px;\n",
       "\tfont-weight:lighter;\n",
       "\t-moz-box-shadow: 2px 2px 6px #888;  \n",
       "\t-webkit-box-shadow: 2px 2px 6px #888;  \n",
       "\tbox-shadow:2px 2px 6px #888;  \n",
       "\ttext-align:left;\n",
       "\tdisplay:block;\n",
       "\tmargin:16px;\n",
       "\t/*  background-image:url(images/background-h1-wood.jpg);  */\n",
       "}\n",
       "/* Essai de compteurs */\n",
       "body {counter-reset : niveau1 ; }\n",
       "h1{counter-reset : niveau2 ;  }\n",
       "h1{counter-increment : niveau1 ; }\n",
       "h2{counter-increment : niveau2 ; }\n",
       "h1::before {content: counter(niveau1, upper-roman) \". \";}\n",
       "h2::before {content: counter(niveau2) \". \"; }\n",
       "\n",
       "/* Mise en forme des tables */\n",
       "table {\n",
       "\twidth:75%;\n",
       "\tborder-style:solid;\n",
       "\tborder-color:#0000FF;\n",
       "\tborder-width:2px;\n",
       "\tspacing:0;\n",
       "\tpadding:0;\n",
       "}\n",
       "th{ background-color: #90EE90; }\n",
       "td{ border-color:#99CCFF; color:#0000FF; background-color:#FFFF99; }\n",
       "\n",
       "</style>\n"
      ],
      "text/plain": [
       "<IPython.core.display.HTML object>"
      ]
     },
     "execution_count": 2,
     "metadata": {},
     "output_type": "execute_result"
    }
   ],
   "source": [
    "from IPython.core.display import HTML\n",
    "\n",
    "css_file = 'style.css'\n",
    "HTML(open(css_file, \"r\", encoding='utf8').read())"
   ]
  },
  {
   "cell_type": "markdown",
   "metadata": {},
   "source": [
    "# Quelques notions de base pour créer/utiliser des Notebooks Jupyter\n",
    "\n",
    "## Georges Landa (LAAS-CNRS, 2020)\n",
    "\n",
    "## Introduction\n",
    "\n",
    "Jupyter est une application web qui rassemble 2 aspects :\n",
    "* un outil de mise en forme de document, texte, fichiers multimédias, code latex ...\n",
    "* une interface permettant d'exécuter du code informatique (Python, Julia, R, ...)\n",
    "\n",
    "\n",
    "## Notions de base\n",
    "\n",
    "Pour commencer, dans un terminal, lancer la ommande jupyter-notebook\n",
    "\n",
    "Cliquer en haute (à côté du logo) pour lui donner un nom, ici Jupyter_TP, le fichier sera sauvé sous Jupyter_TP.ipynb.\n",
    "\n",
    "Le notebook est composé de cellules. \n",
    "\n",
    "Chaque cellule peut contenir, soit du texte mis en forme (cellules du type Markdown) , soit du code (cellule du type Code) à exécuter. \n",
    "\n",
    "Pour chaque cellule, on peut passer en mode commande avec ESC.\n",
    "\n",
    "\n",
    "# Quelques commandes\n",
    "\n",
    "## En mode \"commande\"\n",
    "\n",
    "Commande |Action\n",
    "-|-\n",
    "[ESC] | Passe en mode commande\n",
    "[Enter] | Passe en mode édition \n",
    "-----------|-----------------------------------------------------------------------------------------------------\n",
    "m|Passe la cellule en mode Markdown\n",
    "y|Passe la cellule en mode Code\n",
    "[Ctrl-Enter] | Exécute la cellule\n",
    "[Shift-Enter] | Exécute la cellule et sélectionne la cellule suivante\n",
    "[Alt-Enter] | Exécute la cellule et insére une nouvelle cellule juste en dessous\n",
    "[Ctrl-S] ou S | Save and Checkpoint\n",
    "i i| Interrompt l'exécution du code.\n",
    "0 0| Redémarre l'interpréteur.\n",
    "a| Insère une nouvelle cellule, respectivement au-dessus de la cellule sélectionnée\n",
    "b| Insère une nouvelle cellule, respectivement au-dessous de la cellule sélectionnée\n",
    "x| Coupe la cellule sélectionnée\n",
    "c| Copie la cellule sélectionnée\n",
    "v| Colle la cellule copiée/coupée au-dessus\n",
    "[Shift-v]| Colle la cellule copiée/coupée au-dessous\n",
    "d d | Supprime la cellule sélectionnée\n",
    "z| Annule la dernière suppression de cellule\n",
    "\n",
    "***\n",
    "\n",
    "Commande |Action\n",
    "-|-\n",
    "[Alt-Down] ou [Alt-Up] | Déplace la cellule selectionnée respectivement au-dessus ou en-dessous\n",
    "[Shift-Down] ou [Shift-Up] | Sélectionne la cellule respectivement au-dessus ou en-dessous\n",
    "[Shift-J] ou [Shift-K] | Etend la selection aux cellules respectivement au-dessus ou en-dessous\n",
    "[Shift-M] | Rassemble les cellules sélectionnées\n",
    "[Shift-space] ou [space] | Fait défiler le notebook vers le haut ou vers le bas\n",
    "F | Cherche et remplace\n",
    "L | Bascule les numéros de lignes\n",
    "[Shift-L] | Bascule les numéros de lignes pour toutes les cellules, sauve le choix\n",
    "O | Bascule la sortie des cellules sélectionnées\n",
    "[Shift-O] | Bascule le défilement des cellules de sortie sélectionnées\n",
    "H | Affiche la liste de tous les raccourcis clavier.\n",
    "[Shift-A] | Insère une cellule d'entête avant la cellule sélectionnée\n",
    "[Shift-B] |  Insère une cellule d'entête après la cellule sélectionnée\n",
    "\n",
    "\n",
    "## En mode \"édition\"\n",
    "\n",
    "Commande |Action\n",
    "-|-\n",
    "[Tab] | Indente le texte sélectionné\n",
    "[Shift-Tab] | Désindente le texte sélectionné\n",
    "[Ctrl-A] | Sélectionne tout le texte de la cellule.\n",
    "[Ctrl-Z] | Annule les dernières saisies de texte.\n",
    "[Ctrl-Enter] | Exécute la cellule.\n",
    "[Shift-Enter] | Exécute la cellule et sélectionne la cellule suivante. L'appui répété de cette touche permet ainsi d'exécuter pas à pas toutes les cellules du notebook.\n",
    "[Alt-Enter] | Exécute la cellule et insére une nouvelle cellulejuste en dessous.\n",
    "[ESC] | Passe dans le mode commande\n",
    "\n"
   ]
  },
  {
   "cell_type": "code",
   "execution_count": null,
   "metadata": {},
   "outputs": [],
   "source": []
  },
  {
   "cell_type": "markdown",
   "metadata": {},
   "source": [
    "# Syntaxe des Markdown\n",
    "\n",
    "\n",
    "## Entêtes\n",
    "\n",
    "\\# Ici on utilise un tag \\#  qui appelle \\< h1 \\> \n",
    "\n",
    "\\## Ici on utilise un tag \\#\\# qui appelle \\< h2 \\> \n",
    "\n",
    "\\###### Ici on utilise un tag \\#\\#\\#\\#\\#\\#  équivalent à \\< h6 \\>\n",
    "\n",
    "\n",
    "## Listes\n",
    "   \n",
    "### Simple avec le tag \\*\n",
    "\n",
    "* Item 1\n",
    "* Item 2\n",
    "* Item 2a\n",
    "* Item 2b\n",
    "\n",
    "### Ordonnées avec le tag 1., 2., ...\n",
    "\n",
    "1. Item 1\n",
    "2. Item 2\n",
    "3. Item 3\n",
    "    *  Item 3a\n",
    "    *  Item 3b\n",
    "\n",
    "## Images\n",
    "\n",
    "Pour inclure une image : utilise le tag :\n",
    "\n",
    "## \\!\\[Texte alternatif\\](./chemin/image.jpg)\n",
    "\n",
    "\n",
    "![Bloc gris](./images/Block_grey.jpg)\n",
    "\n",
    "Remarque :\n",
    "Si on veut redimensionner une image, on peut utiliser du code html directement \n",
    "\n",
    "```html\n",
    "    <img src =\"./images/Block_grey.jpg\" title = \"Block gris\" alt = \"Block gris\" width=\"200\"\\> \n",
    "```\n",
    "\n",
    "donne\n",
    "\n",
    "<img src =\"./images/Block_grey.jpg\" title = \"Block gris\" alt = \"Block gris\" width=\"200\"> \n",
    "\n",
    "\n",
    "## Liens\n",
    "\n",
    "L'insertion de lien peeut être faite sous deux formes :\n",
    "* automatique : par exemple  http://www.laas.fr\n",
    "\n",
    "* avec le tag : **\\[Texte aternatif\\](url)** par exemple [LAAS/M3](https://www.laas.fr/public/fr/m3)\n",
    "\n",
    "## Mise en forme\n",
    "\n",
    "Le texte placé entre \\* ou entre \\_ est mis en italique \n",
    "\n",
    "*Texte en italique*\n",
    "_Texte en italique_\n",
    "\n",
    "Le texte placé entre \\*\\* ou entre \\_\\_ est mis en gras , entre \\~\\~ il est barré\n",
    "\n",
    "**Ce texte est en gras**\n",
    "__Ce texte est en gras__\n",
    "\n",
    "~~Ce texte est barré~~\n",
    "\n",
    "On peut *mélanger* **les deux**\n",
    "\n",
    "## Citations\n",
    "\n",
    "Une citation utilise le tag **\\>**\n",
    "\n",
    "Comme je dis souvent :\n",
    "> Il vaut mieux prévenir que prévenir ...\n",
    "\n",
    "## Echappement de caractères\n",
    "\n",
    "Markdown autorise l'échappement des caractères qui sont utilisés pour le formattage.\n",
    "\n",
    "Ce sont les caractères :\n",
    "\n",
    "* \\\\ antislash\n",
    "* \\` accent grave\n",
    "* \\* astérisque\n",
    "* \\_ sousligné\n",
    "* \\{\\} accolades\n",
    "* \\[\\] crochets\n",
    "* \\(\\) parenthèses\n",
    "* \\# dièse\n",
    "* \\+ signe plus\n",
    "* \\- signe moins (tiret)\n",
    "* \\. point\n",
    "* \\! point d'exclamation\n",
    "\n",
    "## Utilisateur  @mention\n",
    "\n",
    "Le symbole @ suivi par le nom d'utilisateur Github permet d'attirer l'attention sur un commentaire particulier (ex: @landag).\n",
    "\n",
    "On peut aussi mentionner une organisation : @LAAS\n",
    "\n",
    "## Références\n",
    "\n",
    "Si un numéro fait référence à une question (forum), le lien correspondant est inséré :\n",
    "#1\n",
    "github-flavored-markdown#1\n",
    "defunkt/github-flavored-markdown#1\n",
    "\n",
    "## Code informatique et colorisation\n",
    "\n",
    "Si du texte est précédé de 4 \"espaces\", il est converti en bloc de code.\n",
    "    #import numpy as np\n",
    "    a = np.sqrt(3)\n",
    "\n",
    "\n",
    "On peut aussi utiliser ``` pour créer un bloc de code (sans les 4 espaces) et ajouter un indicateur du langage utilisé.\n",
    "\n",
    "```javascript\n",
    "function test() {\n",
    "console.log(\"look ma’, no spaces\");\n",
    "}\n",
    "```\n",
    "```c\n",
    "#include <stdio.h>\n",
    "main(){\n",
    "}\n",
    "```\n",
    "\n",
    "## Liste cochée\n",
    "\n",
    "On utilise le tag **\\-**\n",
    "\n",
    "- [x] un item complet\n",
    "- [ ] un item incomplet\n",
    "- [x] @mentions, #refs, [liens](), **formattage**, et <del>barré</del> sont autorisés\n",
    "\n",
    "\n",
    "\n",
    "## Tables\n",
    "\n",
    "On peut créer des tableaux en assemblant une liste de mots et les divisant avec des tirets - (pour la première ligne), puis en séparant chaque colonne avec une pipe | :\n",
    "\n",
    "Premier entête | Deuxième entête\n",
    "------------ | -------------\n",
    "ligne 1, colonne 1 | ligne 1, colonne 2\n",
    "ligne 2, colonne 1 | ligne 2, colonne 2\n",
    "\n",
    "## Filets ou barres de séparation\n",
    "\n",
    "Pour afficher un filet de séparation, il faut insérer \\*\\*\\* ou \\-\\-\\- sur une ligne entourée de deux lignes vides.\n",
    "\n",
    "exemple : ici, l'épaisseur et la couleur ont été modifiés dans la feuille de style (style.css)\n",
    "\n",
    "***\n"
   ]
  },
  {
   "cell_type": "code",
   "execution_count": null,
   "metadata": {},
   "outputs": [],
   "source": []
  },
  {
   "cell_type": "markdown",
   "metadata": {},
   "source": [
    "# Exécuter du code Python"
   ]
  },
  {
   "cell_type": "markdown",
   "metadata": {},
   "source": [
    "## On peut exécuter du code python dans les cellules"
   ]
  },
  {
   "cell_type": "code",
   "execution_count": null,
   "metadata": {
    "ExecuteTime": {
     "end_time": "2021-01-08T17:22:19.338544Z",
     "start_time": "2021-01-08T17:22:19.333202Z"
    }
   },
   "outputs": [],
   "source": [
    "a = 2*3\n",
    "# On peut introduire des commentaires\n",
    "print(a)"
   ]
  },
  {
   "cell_type": "code",
   "execution_count": null,
   "metadata": {
    "ExecuteTime": {
     "end_time": "2021-01-08T17:22:19.352508Z",
     "start_time": "2021-01-08T17:22:19.344189Z"
    }
   },
   "outputs": [],
   "source": [
    "# -*- coding: utf-8 -*-\n",
    "from numpy import array\n",
    "# définir un premier vecteur\n",
    "a = array([1, 2, 3])\n",
    "print(a)\n",
    "# définir un second vecteur\n",
    "b = array([1, 2, 3])\n",
    "print(b)\n",
    "# produit scalaire\n",
    "c = a.dot(b)\n",
    "print(c)"
   ]
  },
  {
   "cell_type": "code",
   "execution_count": null,
   "metadata": {
    "ExecuteTime": {
     "end_time": "2021-01-08T17:22:19.760799Z",
     "start_time": "2021-01-08T17:22:19.356506Z"
    }
   },
   "outputs": [],
   "source": [
    "# -*- coding: utf-8 -*-\n",
    "from scipy import integrate\n",
    "\n",
    "# definir une fonction simple à intégrer\n",
    "def f(x):\n",
    "    return x\n",
    "\n",
    "x_lower = 0 # borne inférieure de l'intégrale\n",
    "x_upper = 1 # borne supérieure de l'intégrale\n",
    "\n",
    "val, abserr = integrate.quad(f, x_lower, x_upper)\n",
    "\n",
    "print(\"valeur de l'intégrale = %f, erreur en valeur absolue = %f\" % (val, abserr))\n"
   ]
  },
  {
   "cell_type": "markdown",
   "metadata": {},
   "source": [
    "###### On peut obtenir un aide sur certaines fonctions, par exemple essayer la comande suivante dans une cellule code :\n",
    "?abs\n"
   ]
  },
  {
   "cell_type": "markdown",
   "metadata": {},
   "source": [
    "# Les commandes systèmes\n",
    "\n",
    "## Exécuter une commande shell  : !\n",
    "\n",
    "On utilise le **\\!**\n",
    "\n",
    "par exemple  : !ls permet de lister le répertoire\n",
    "\n",
    "\n",
    "## Les commandes magiques \n",
    "\n",
    "### \\%matplotlib\n",
    "\n",
    "1. **\\%matplotlib** (sans argument) : la sortie graphique est dirigée vers une nouvelle fenêtre\n",
    "\n",
    "2. **\\%matplotlib inline** : la sortie graphique est affichée sous la cellule\n",
    "\n",
    "3. **\\%matplotlib notebook** : la sortie graphique est affichée sous la cellule mais permet d'interagir avec la figure"
   ]
  },
  {
   "cell_type": "code",
   "execution_count": null,
   "metadata": {
    "ExecuteTime": {
     "end_time": "2021-01-08T17:22:20.018794Z",
     "start_time": "2021-01-08T17:22:19.763830Z"
    }
   },
   "outputs": [],
   "source": [
    "%matplotlib inline\n",
    "import matplotlib.pyplot as plt\n",
    "import numpy as np\n",
    "x = np.arange(0.01,4*np.pi,0.1)   # start,stop,step\n",
    "y = np.sin(x)/x\n",
    "plt.plot(x,y)\n",
    "plt.show()\n"
   ]
  },
  {
   "cell_type": "markdown",
   "metadata": {},
   "source": [
    "### \\%connect_info \n",
    "\n",
    "La commande **\\%connect_info** renseigne sur la connexion utilisée\n"
   ]
  },
  {
   "cell_type": "code",
   "execution_count": null,
   "metadata": {
    "ExecuteTime": {
     "end_time": "2021-01-08T17:22:20.026027Z",
     "start_time": "2021-01-08T17:22:20.021318Z"
    }
   },
   "outputs": [],
   "source": [
    "%connect_info"
   ]
  },
  {
   "cell_type": "markdown",
   "metadata": {},
   "source": [
    "### \\%autosave\n",
    "\n",
    "La commande **\\%autosave** sauvegarde le notebook toutes les 300 secondes.\n",
    "\n",
    "### Les variables dans l'interpréteur Python\n",
    "\n",
    "**\\%who** et **\\%whos** affichent les objets définis\n",
    "\n",
    "\n",
    "**\\%reset** permet d'effacer les variables (avec -f : pas de confirmation)\n",
    "\n"
   ]
  },
  {
   "cell_type": "code",
   "execution_count": null,
   "metadata": {
    "ExecuteTime": {
     "end_time": "2021-01-08T17:22:20.035433Z",
     "start_time": "2021-01-08T17:22:20.028462Z"
    },
    "scrolled": true
   },
   "outputs": [],
   "source": [
    "%whos"
   ]
  },
  {
   "cell_type": "markdown",
   "metadata": {},
   "source": [
    "## La commande \\%lsmagic\n"
   ]
  },
  {
   "cell_type": "code",
   "execution_count": null,
   "metadata": {
    "ExecuteTime": {
     "end_time": "2021-01-08T17:22:20.052801Z",
     "start_time": "2021-01-08T17:22:20.044851Z"
    }
   },
   "outputs": [],
   "source": [
    "%lsmagic"
   ]
  },
  {
   "cell_type": "markdown",
   "metadata": {},
   "source": [
    "On peut insérer du texte écrit en LaTeX :\n",
    "\n",
    "```latex\n",
    "$$\\int_a^b f(x)dx $$ \n",
    "```\n",
    "\n",
    "$$\\int_a^b f(x)dx $$ "
   ]
  },
  {
   "cell_type": "markdown",
   "metadata": {},
   "source": [
    "%%latex\n",
    "Une équation très importante : $E = mc^2$ ;\n",
    "\n",
    "Toutes les mathématiques : $e^{i \\pi} = -1$\n",
    "\n"
   ]
  },
  {
   "cell_type": "markdown",
   "metadata": {},
   "source": [
    "%%HTML\n",
    "This is <em>really</em> neat!"
   ]
  },
  {
   "cell_type": "markdown",
   "metadata": {},
   "source": [
    "## Les variables d'environnement\n",
    "\n",
    "Pour les afficher : **\\%env**"
   ]
  },
  {
   "cell_type": "code",
   "execution_count": null,
   "metadata": {
    "ExecuteTime": {
     "end_time": "2021-01-08T17:22:20.069314Z",
     "start_time": "2021-01-08T17:22:20.057662Z"
    }
   },
   "outputs": [],
   "source": [
    "%env"
   ]
  },
  {
   "cell_type": "markdown",
   "metadata": {},
   "source": [
    "## Executer un programme python ou un notebook\n",
    "\n",
    "On utilise la commande **\\%run**\n",
    "\n",
    "\\%run programme.py\n",
    "\n",
    "ou\n",
    "\n",
    "\\%run notebook.ipynb\n",
    "\n"
   ]
  },
  {
   "cell_type": "markdown",
   "metadata": {},
   "source": [
    "## Chargement de code externe\n",
    "\n",
    "La commande **\\%load** permet de charger un fichier externe dans la cellule, le code sera ensuite exécuté avec les touches **\\< ctrl \\> \\< enter \\>**. Vous pouvez soit utiliser un fichier sur votre ordinateur comme source, soit une URL.\n",
    "\n",
    "## Passage de variables entre notebooks\n",
    "\n",
    "La commande **\\%store** permet de stocker une variable d'un notebook_A pour la charger dans un autre notebookb_B\n",
    "\n",
    "1. Dans le notebook_A : data = 'Ceci est une chaîne de caractère à passer entre 2 notebooks'\n",
    "2. %store data (le système répond : Stored 'data' (str))\n",
    "3. del data # Ceci efface la variable du notebook_A\n",
    "4. Dans le nouveau notebook_B : %store -r data\n",
    "5. print(data) : affiche le contenu de data dans le notebook_B\n",
    "\n",
    "\n",
    "## Mesure du temps d'exécution \n",
    "\n",
    "1. La commande **\\%\\%time** : donne des informations sur une seule exécution du code dans la cellule\n"
   ]
  },
  {
   "cell_type": "code",
   "execution_count": null,
   "metadata": {
    "ExecuteTime": {
     "end_time": "2021-01-08T17:22:30.273663Z",
     "start_time": "2021-01-08T17:22:20.075530Z"
    }
   },
   "outputs": [],
   "source": [
    "%%time\n",
    "import time\n",
    "for _ in range(1000):\n",
    "    time.sleep(0.01) # sleep for 0.01 seconds"
   ]
  },
  {
   "cell_type": "markdown",
   "metadata": {},
   "source": [
    "2. La commande **\\%timeit** utilise le module Python timeit qui exécute une instruction 100 000 fois (par défaut) et fournit ensuite la moyenne des trois temps les plus rapides\n"
   ]
  },
  {
   "cell_type": "code",
   "execution_count": null,
   "metadata": {
    "ExecuteTime": {
     "end_time": "2021-01-08T17:22:37.182228Z",
     "start_time": "2021-01-08T17:22:30.276442Z"
    }
   },
   "outputs": [],
   "source": [
    "import numpy\n",
    "%timeit numpy.random.normal(size=100)"
   ]
  },
  {
   "cell_type": "markdown",
   "metadata": {},
   "source": [
    "## Import / Export de code\n",
    "\n",
    "### Importation de code : \\%pycat\n",
    "\n",
    "**\\%pycat ~/python/EXEMPLES/lorentz.py** va afficher une fenêtre avec le programme indiqué, on peut ensuite faire des copier/coller\n"
   ]
  },
  {
   "cell_type": "code",
   "execution_count": null,
   "metadata": {
    "ExecuteTime": {
     "end_time": "2021-01-08T17:22:37.194979Z",
     "start_time": "2021-01-08T17:22:37.185271Z"
    }
   },
   "outputs": [],
   "source": [
    "%pycat ~/python/EXEMPLES/lorentz.py"
   ]
  },
  {
   "cell_type": "markdown",
   "metadata": {},
   "source": [
    "### Export de code : \\%\\%writefile\n",
    "\n",
    "**\\%\\%writefile prog.py** va exporter la cellule courante dans prog.py\n"
   ]
  },
  {
   "cell_type": "code",
   "execution_count": null,
   "metadata": {
    "ExecuteTime": {
     "end_time": "2021-01-08T17:22:37.206860Z",
     "start_time": "2021-01-08T17:22:37.197828Z"
    }
   },
   "outputs": [],
   "source": [
    "%%writefile prog.py \n",
    "import matplotlib.pyplot as plt\n",
    "import numpy as np\n",
    "x=np.linspace(-5,5,100)\n",
    "plt.plot(x,np.sin(x))  # on utilise la fonction sinus de Numpy\n",
    "plt.ylabel('fonction sinus')\n",
    "plt.xlabel(\"l'axe des abcisses\")\n",
    "plt.show()"
   ]
  },
  {
   "cell_type": "markdown",
   "metadata": {},
   "source": [
    "## Temps d'exécution dans les fonctions : \\%prun\n",
    "\n",
    "**\\%prun nom_instruction** donne un tableau ordonné indiquant le nombre de fois que chaque fonction interne a été appelée dans l'instruction, le temps pris par chaque appel ainsi que le temps cumulé de toutes les exécutions de la fonction\n"
   ]
  },
  {
   "cell_type": "code",
   "execution_count": null,
   "metadata": {
    "ExecuteTime": {
     "end_time": "2021-01-08T17:22:37.229032Z",
     "start_time": "2021-01-08T17:22:37.211235Z"
    },
    "scrolled": true
   },
   "outputs": [],
   "source": [
    "import numpy as np\n",
    "for _ in range(10):\n",
    "    %prun print(np.sin(_))\n"
   ]
  },
  {
   "cell_type": "markdown",
   "metadata": {},
   "source": [
    "## Utilisation du débogueur de python : \\%pdb\n",
    "\n",
    "lancer **\\%pdb** en début de cellule\n"
   ]
  },
  {
   "cell_type": "markdown",
   "metadata": {},
   "source": [
    "## Passage en mode haute-résolution (retina)\n",
    "\n",
    "Utile pour les écrans qui le permettent (MacBook)\n",
    "\n",
    "**\\%config InlineBackend.figure_format ='retina'**\n"
   ]
  },
  {
   "cell_type": "code",
   "execution_count": null,
   "metadata": {
    "ExecuteTime": {
     "end_time": "2021-01-08T17:22:37.529740Z",
     "start_time": "2021-01-08T17:22:37.234216Z"
    },
    "scrolled": true
   },
   "outputs": [],
   "source": [
    "%matplotlib inline\n",
    "%config InlineBackend.figure_format ='retina'\n",
    "\n",
    "import matplotlib.pyplot as plt\n",
    "x = range(1000)\n",
    "y = [i ** 2 for i in x]\n",
    "plt.plot(x,y)\n",
    "plt.show();"
   ]
  },
  {
   "cell_type": "markdown",
   "metadata": {},
   "source": [
    "## Suppression de l'affichage lié à la dernière instruction \n",
    "\n",
    "Parfois, il est pratique de supprimer la sortie de la fonction sur une dernière ligne, par exemple lors du traçage. Pour ce faire, vous ajoutez simplement un **point-virgule** à la fin."
   ]
  },
  {
   "cell_type": "code",
   "execution_count": null,
   "metadata": {
    "ExecuteTime": {
     "end_time": "2021-01-08T17:22:37.726455Z",
     "start_time": "2021-01-08T17:22:37.534306Z"
    }
   },
   "outputs": [],
   "source": [
    "%matplotlib inline\n",
    "from matplotlib import pyplot as plt\n",
    "import numpy\n",
    "\n",
    "x = numpy.linspace(0, 1, 1000)**1.5\n",
    "\n",
    "# Here you get the output of the function\n",
    "plt.hist(x);"
   ]
  },
  {
   "cell_type": "markdown",
   "metadata": {},
   "source": [
    "# Partager son notebook\n",
    "\n",
    "Il y a deux aspects dans le partage :\n",
    "\n",
    "1. Partage du notebook final, souvent non-interactif, la mise en forme est ternimée \n",
    "\n",
    "2. Partager via un système de contrôle de version, par exemple Git, plutôt lorsque le notebook est en cours de construction, ou un travail partagé\n",
    "\n",
    "Avant le partage, il est prudent de nettoyer et raffraîchir les cellules :\n",
    "\n",
    "* Cliquez sur \"Cellule -> Toutes les sorties -> Effacer\"\n",
    "* Cliquez sur \"Noyau -> Redémarrer et exécuter tout\"\n",
    "* Vérifier le résultat des cellules\n",
    "\n",
    "\n",
    "##  Exporter dans les formats de base\n",
    "\n",
    "Jupyter a un support intégré pour l'export au format HTML, LaTeX, Python et PDF ainsi que plusieurs autres formats.\n",
    "Voir le menu : \n",
    "\n",
    "\n",
    "\"Fichier -> Télécharger au format\". \n",
    "\n",
    "## Exporter via GitHub\n",
    "\n",
    "Une solution élégante pour le partage est d'utiliser la plateforme GitHub (il faut un compte). GitHub a intégré la prise en charge du rendu des fichiers .ipynb directement à la fois dans les référentiels et les Gists sur son site Web. \n",
    "\n",
    "rem : un Gist est un dépôt Git, ce qui signifie qu'il peut être bifurqué et cloné. Les informations peuvent être publiques ou secrètes.\n",
    "\n",
    "Lorsqu'on a un compte GitHub, le moyen le plus simple de partager un notebook ne nécessite pas du tout Git. GitHub fournit son service Gist pour l'hébergement et le partage d'extraits de code, qui obtiennent chacun leur propre référentiel. Pour partager un notebook à l'aide de Gists:\n",
    "\n",
    "1. Connectez-vous et accédez à gist.github.com\n",
    "2. Ouvrir votre fichier .ipynb dans un éditeur de texte, sélectionnez tout et copiez le code JSON\n",
    "3. Collez le bloc-notes JSON dans le Gist\n",
    "4. Donnez à votre Gist un nom de fichier, en pensant à ajouter .iypnb (ou cela ne fonctionnera pas)\n",
    "5. Cliquez sur \"Créer un gist secret\" ou \"Créer un gist public\"\n",
    "\n",
    "Si le gist est public, vous pourrez désormais partager son URL avec n'importe qui, il pourra être forké et cloné. \n",
    "\n",
    "astuce : .gitignore pour éviter de copier les répertoires cachés .ipynb_checkpoints créés par Jupyter\n",
    "\n",
    "GitHub possède son propre moteur de rendu pour notebooks Jupyter.\n",
    "\n",
    "## Exporter via Nbviewer\n",
    "\n",
    "Nbviewer est un moteur de rendu de notebooks. Si vous avez déjà un endroit pour héberger vos notebooks Jupyter en ligne, que ce soit GitHub ou ailleurs, NBViewer fournira une URL partageable. C'est un service gratuit du projet Jupyter.\n",
    "\n",
    "Il est disponible sur **nbviewer.jupyter.org**\n",
    "\n",
    "NBViewer permet à quiconque de saisir une URL, un identifiant Gist ou un nom d'utilisateur / dépôt / fichier GitHub et il restituera le notebook comme une page Web. \n",
    "\n",
    "L'ID d'un Gist est le numéro unique à la fin de son URL; par exemple, la chaîne de caractères après la dernière barre oblique inverse dans https://gist.github.com/username/50896401c23e0bf417e89cd57e89e1de. \n",
    "\n",
    "Si vous entrez un nom d'utilisateur GitHub ou un nom d'utilisateur / référentiel, vous verrez un navigateur de fichiers minimal qui vous permet d'explorer les dépôts d'un utilisateur et leur contenu.\n",
    "\n",
    "L'URL que NBViewer affiche lors de l'affichage d'un notebook est une constante basée sur l'URL du notebook qu'il rend, vous pouvez donc le partager avec n'importe qui et cela fonctionnera tant que les fichiers d'origine resteront en ligne - NBViewer ne garde pas les fichiers en cache très longtemps.\n",
    "\n"
   ]
  },
  {
   "cell_type": "markdown",
   "metadata": {},
   "source": [
    "# Divers\n",
    "\n",
    "\n",
    "## Affichage des données"
   ]
  },
  {
   "cell_type": "code",
   "execution_count": null,
   "metadata": {},
   "outputs": [],
   "source": []
  },
  {
   "cell_type": "code",
   "execution_count": null,
   "metadata": {
    "ExecuteTime": {
     "end_time": "2021-01-08T17:22:37.996703Z",
     "start_time": "2021-01-08T17:22:37.728835Z"
    },
    "scrolled": true
   },
   "outputs": [],
   "source": [
    "from IPython.core.interactiveshell import InteractiveShell\n",
    "InteractiveShell.ast_node_interactivity = \"all\"\n",
    "from pydataset import data\n",
    "quakes = data('quakes')\n",
    "quakes.head()\n",
    "quakes.tail()"
   ]
  },
  {
   "cell_type": "markdown",
   "metadata": {},
   "source": [
    "## Appel à la documentation\n",
    "\n",
    "On peut utiliser la syntaxe : **\\?str.replace()** pour afficher la doc sur replace()"
   ]
  },
  {
   "cell_type": "code",
   "execution_count": null,
   "metadata": {
    "ExecuteTime": {
     "end_time": "2021-01-08T17:22:38.005022Z",
     "start_time": "2021-01-08T17:22:38.000255Z"
    }
   },
   "outputs": [],
   "source": [
    "?str.replace()"
   ]
  },
  {
   "cell_type": "markdown",
   "metadata": {},
   "source": [
    "## Nombre de processeurs"
   ]
  },
  {
   "cell_type": "code",
   "execution_count": null,
   "metadata": {
    "ExecuteTime": {
     "end_time": "2021-01-08T17:22:38.012413Z",
     "start_time": "2021-01-08T17:22:38.008262Z"
    }
   },
   "outputs": [],
   "source": [
    "import multiprocessing\n",
    "print(multiprocessing.cpu_count())"
   ]
  },
  {
   "cell_type": "markdown",
   "metadata": {},
   "source": [
    "## LaTeX"
   ]
  },
  {
   "cell_type": "markdown",
   "metadata": {},
   "source": [
    "Il faut entourer le code LaTeX avec des \\$ :\n",
    "\n",
    "$e^{i\\pi} + 1 = 0$"
   ]
  }
 ],
 "metadata": {
  "kernelspec": {
   "display_name": "Python 3",
   "language": "python",
   "name": "python3"
  },
  "language_info": {
   "codemirror_mode": {
    "name": "ipython",
    "version": 3
   },
   "file_extension": ".py",
   "mimetype": "text/x-python",
   "name": "python",
   "nbconvert_exporter": "python",
   "pygments_lexer": "ipython3",
   "version": "3.6.9"
  },
  "toc": {
   "base_numbering": 1,
   "nav_menu": {},
   "number_sections": true,
   "sideBar": true,
   "skip_h1_title": false,
   "title_cell": "Table of Contents",
   "title_sidebar": "Contents",
   "toc_cell": true,
   "toc_position": {
    "height": "calc(100% - 180px)",
    "left": "10px",
    "top": "150px",
    "width": "165px"
   },
   "toc_section_display": true,
   "toc_window_display": false
  },
  "toc-autonumbering": true,
  "toc-showmarkdowntxt": false,
  "toc-showtags": false
 },
 "nbformat": 4,
 "nbformat_minor": 4
}
