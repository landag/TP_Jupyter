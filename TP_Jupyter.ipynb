{
 "cells": [
  {
   "cell_type": "markdown",
   "metadata": {
    "toc": true
   },
   "source": [
    "<h1>Table of Contents<span class=\"tocSkip\"></span></h1>\n",
    "<div class=\"toc\"><ul class=\"toc-item\"><li><span><a href=\"#Quelques-notions-de-base-pour-créer/utiliser-des-Notebooks-Jupyter\" data-toc-modified-id=\"Quelques-notions-de-base-pour-créer/utiliser-des-Notebooks-Jupyter-1\">Quelques notions de base pour créer/utiliser des Notebooks Jupyter</a></span><ul class=\"toc-item\"><li><span><a href=\"#Introduction\" data-toc-modified-id=\"Introduction-1.1\">Introduction</a></span></li><li><span><a href=\"#Notions-de-base\" data-toc-modified-id=\"Notions-de-base-1.2\">Notions de base</a></span></li></ul></li><li><span><a href=\"#Quelques-commandes\" data-toc-modified-id=\"Quelques-commandes-2\">Quelques commandes</a></span><ul class=\"toc-item\"><li><span><a href=\"#En-mode-&quot;commande&quot;\" data-toc-modified-id=\"En-mode-&quot;commande&quot;-2.1\">En mode \"commande\"</a></span></li><li><span><a href=\"#En-mode-&quot;édition&quot;\" data-toc-modified-id=\"En-mode-&quot;édition&quot;-2.2\">En mode \"édition\"</a></span></li></ul></li><li><span><a href=\"#Syntaxe-des-Markdown\" data-toc-modified-id=\"Syntaxe-des-Markdown-3\">Syntaxe des Markdown</a></span><ul class=\"toc-item\"><li><span><a href=\"#Entêtes\" data-toc-modified-id=\"Entêtes-3.1\">Entêtes</a></span></li><li><span><a href=\"#Listes\" data-toc-modified-id=\"Listes-3.2\">Listes</a></span></li><li><span><a href=\"#Images\" data-toc-modified-id=\"Images-3.3\">Images</a></span></li><li><span><a href=\"#![Texte-alternatif](./chemin/image.jpg)\" data-toc-modified-id=\"![Texte-alternatif](./chemin/image.jpg)-3.4\">![Texte alternatif](./chemin/image.jpg)</a></span></li><li><span><a href=\"#Liens\" data-toc-modified-id=\"Liens-3.5\">Liens</a></span></li><li><span><a href=\"#Mise-en-forme\" data-toc-modified-id=\"Mise-en-forme-3.6\">Mise en forme</a></span></li><li><span><a href=\"#Citations\" data-toc-modified-id=\"Citations-3.7\">Citations</a></span></li><li><span><a href=\"#Echappement-de-caractères\" data-toc-modified-id=\"Echappement-de-caractères-3.8\">Echappement de caractères</a></span></li><li><span><a href=\"#Utilisateur--@mention\" data-toc-modified-id=\"Utilisateur--@mention-3.9\">Utilisateur  @mention</a></span></li><li><span><a href=\"#Références\" data-toc-modified-id=\"Références-3.10\">Références</a></span></li><li><span><a href=\"#Code-informatique-et-colorisation\" data-toc-modified-id=\"Code-informatique-et-colorisation-3.11\">Code informatique et colorisation</a></span></li><li><span><a href=\"#Liste-cochée\" data-toc-modified-id=\"Liste-cochée-3.12\">Liste cochée</a></span></li><li><span><a href=\"#Tables\" data-toc-modified-id=\"Tables-3.13\">Tables</a></span></li><li><span><a href=\"#Filets-ou-barres-de-séparation\" data-toc-modified-id=\"Filets-ou-barres-de-séparation-3.14\">Filets ou barres de séparation</a></span></li></ul></li><li><span><a href=\"#Exécuter-du-code-Python\" data-toc-modified-id=\"Exécuter-du-code-Python-4\">Exécuter du code Python</a></span><ul class=\"toc-item\"><li><span><a href=\"#On-peut-exécuter-du-code-python-dans-les-cellules\" data-toc-modified-id=\"On-peut-exécuter-du-code-python-dans-les-cellules-4.1\">On peut exécuter du code python dans les cellules</a></span></li></ul></li><li><span><a href=\"#Les-commandes-systèmes\" data-toc-modified-id=\"Les-commandes-systèmes-5\">Les commandes systèmes</a></span><ul class=\"toc-item\"><li><span><a href=\"#Exécuter-une-commande-shell--:-!\" data-toc-modified-id=\"Exécuter-une-commande-shell--:-!-5.1\">Exécuter une commande shell  : !</a></span></li><li><span><a href=\"#Les-commandes-magiques\" data-toc-modified-id=\"Les-commandes-magiques-5.2\">Les commandes magiques</a></span></li></ul></li><li><span><a href=\"#Commandes-systèmes\" data-toc-modified-id=\"Commandes-systèmes-6\">Commandes systèmes</a></span><ul class=\"toc-item\"><li><span><a href=\"#%connect_info\" data-toc-modified-id=\"%connect_info-6.1\">%connect_info</a></span></li><li><span><a href=\"#%autosave\" data-toc-modified-id=\"%autosave-6.2\">%autosave</a></span></li><li><span><a href=\"#Les-variables-dans-l'interpréteur-Python\" data-toc-modified-id=\"Les-variables-dans-l'interpréteur-Python-6.3\">Les variables dans l'interpréteur Python</a></span></li></ul></li><li><span><a href=\"#La-commande-%lsmagic\" data-toc-modified-id=\"La-commande-%lsmagic-7\">La commande %lsmagic</a></span><ul class=\"toc-item\"><li><span><a href=\"#Les-variables-d'environnement\" data-toc-modified-id=\"Les-variables-d'environnement-7.1\">Les variables d'environnement</a></span></li><li><span><a href=\"#Executer-un-programme-python-ou-un-notebook\" data-toc-modified-id=\"Executer-un-programme-python-ou-un-notebook-7.2\">Executer un programme python ou un notebook</a></span></li><li><span><a href=\"#Chargement-de-code-externe\" data-toc-modified-id=\"Chargement-de-code-externe-7.3\">Chargement de code externe</a></span></li><li><span><a href=\"#Passage-de-variables-entre-notebooks\" data-toc-modified-id=\"Passage-de-variables-entre-notebooks-7.4\">Passage de variables entre notebooks</a></span></li><li><span><a href=\"#Mesure-du-temps-d'exécution\" data-toc-modified-id=\"Mesure-du-temps-d'exécution-7.5\">Mesure du temps d'exécution</a></span></li><li><span><a href=\"#Import-/-Export-de-code\" data-toc-modified-id=\"Import-/-Export-de-code-7.6\">Import / Export de code</a></span></li><li><span><a href=\"#Temps-d'exécution-dans-les-fonctions-:-%prun\" data-toc-modified-id=\"Temps-d'exécution-dans-les-fonctions-:-%prun-7.7\">Temps d'exécution dans les fonctions : %prun</a></span></li><li><span><a href=\"#Utilisation-du-débogueur-de-python-:-%pdb\" data-toc-modified-id=\"Utilisation-du-débogueur-de-python-:-%pdb-7.8\">Utilisation du débogueur de python : %pdb</a></span></li><li><span><a href=\"#Passage-en-mode-haute-résolution-(retina)\" data-toc-modified-id=\"Passage-en-mode-haute-résolution-(retina)-7.9\">Passage en mode haute-résolution (retina)</a></span></li><li><span><a href=\"#Suppression-de-l'affichage-lié-à-la-dernière-instruction\" data-toc-modified-id=\"Suppression-de-l'affichage-lié-à-la-dernière-instruction-7.10\">Suppression de l'affichage lié à la dernière instruction</a></span></li></ul></li><li><span><a href=\"#Partager-son-notebook\" data-toc-modified-id=\"Partager-son-notebook-8\">Partager son notebook</a></span><ul class=\"toc-item\"><li><span><a href=\"#Exporter-dans-les-formats-de-base\" data-toc-modified-id=\"Exporter-dans-les-formats-de-base-8.1\">Exporter dans les formats de base</a></span></li><li><span><a href=\"#Exporter-via-GitHub\" data-toc-modified-id=\"Exporter-via-GitHub-8.2\">Exporter via GitHub</a></span></li><li><span><a href=\"#Exporter-via-Nbviewer\" data-toc-modified-id=\"Exporter-via-Nbviewer-8.3\">Exporter via Nbviewer</a></span></li></ul></li><li><span><a href=\"#Divers\" data-toc-modified-id=\"Divers-9\">Divers</a></span><ul class=\"toc-item\"><li><span><a href=\"#Affichage-des-données\" data-toc-modified-id=\"Affichage-des-données-9.1\">Affichage des données</a></span></li><li><span><a href=\"#Appel-à-la-documentation\" data-toc-modified-id=\"Appel-à-la-documentation-9.2\">Appel à la documentation</a></span></li><li><span><a href=\"#Nombre-de-processeurs\" data-toc-modified-id=\"Nombre-de-processeurs-9.3\">Nombre de processeurs</a></span></li><li><span><a href=\"#LaTeX\" data-toc-modified-id=\"LaTeX-9.4\">LaTeX</a></span></li></ul></li></ul></div>"
   ]
  },
  {
   "cell_type": "code",
   "execution_count": 13,
   "metadata": {
    "ExecuteTime": {
     "end_time": "2021-01-15T15:01:20.492753Z",
     "start_time": "2021-01-15T15:01:20.481781Z"
    }
   },
   "outputs": [
    {
     "data": {
      "text/html": [
       "@charset \"UTF-8\";\n",
       "<style type=\"text/css\">\n",
       "{\n",
       "}\n",
       "\n",
       "/* Permet de mettre le notebook sur 95% de la fenêtre */\n",
       ".container { width:95% !important; }\n",
       "\n",
       "/* Ajoute un fond colore au notebook */\n",
       "#notebook { \n",
       "/*    background-color: #0c870a !important;*/\n",
       "    background-color: #F7FF9D !important;\n",
       "    box-shadow: inset 20px 36px 20px -35px black !important;\n",
       "}\n",
       "\n",
       "/* coloration du fond (HTML) */\n",
       "body { background-color:#F7FF9D !important ;\n",
       "} \n",
       "\n",
       "/* Config. pour les lignes horizontales */\n",
       "hr { border: 1px solid red; }\n",
       "\n",
       "/* Ajout d'une marge en haut et en bas du notebook */\n",
       "div#notebook{ margin-top:10px; margin-bottom:10px; }\n",
       "\n",
       "/* Limite à 90% de la largeur utilisable */\n",
       "div.cell{ max-width:90%; margin-left:auto; margin-right:auto; }\n",
       "\n",
       "/* Ajoute de l'espace entre les cellules */\n",
       "div.input, div.output_wrapper{ margin-top:1em; margin-bottom:1em; }\n",
       "\n",
       "/* Ajoute un filet à gauche des parties textes */\n",
       "div.text_cell{\n",
       "\tmargin-top:-2px;\n",
       "\tmargin-bottom:-2px;\n",
       "\tpadding-top:2px;\n",
       "\tpadding-bottom:2px;\n",
       "\tborder-left:5px solid #FFAAFF;\n",
       "\tborder-collapse:collapse;\n",
       "\tborder-top:none;\n",
       "\tborder-bottom:none;\n",
       "}\n",
       "\n",
       "/*div.text_cell { width:600px; height:400px; background-color:#FFCC00; }*/\n",
       "\n",
       "/* configuration des entêtes */\n",
       "h1\n",
       "{\n",
       "\tfont-size: 40px;\n",
       "\t/*  text-shadow: -1px -1px #0c0, 1px 1px #060, -3px 0 4px #000;*/\n",
       "\tfont-family:Arial, Helvetica, sans-serif;\n",
       "\tcolor: #090;\n",
       "\tbackground-color: #FFAAFF;\n",
       "\tpadding:16px;\n",
       "\tfont-weight:lighter;\n",
       "\t-moz-box-shadow: 2px 2px 6px #888;  \n",
       "\t-webkit-box-shadow: 2px 2px 6px #888;  \n",
       "\tbox-shadow:2px 2px 6px #888;  \n",
       "\ttext-align:center;\n",
       "\tdisplay:block;\n",
       "\tmargin:16px;\n",
       "\t/*  background-image:url(images/background-h1-wood.jpg);  */\n",
       "}\n",
       "h2\n",
       "{\n",
       "\tfont-size: 20px; font-family:Arial, Helvetica, sans-serif; font-weight:lighter;\n",
       "\t/*  text-shadow: -1px -1px #0c0, 1px 1px #060, -3px 0 4px #000;*/\n",
       "\tcolor: #090; background-color: #FFAAFF;\n",
       "\tpadding:12px;\n",
       "\t-moz-box-shadow: 2px 2px 6px #888;  \n",
       "\t-webkit-box-shadow: 2px 2px 6px #888;\n",
       "\tbox-shadow:2px 2px 6px #888;  \n",
       "\ttext-align:left;\n",
       "\tdisplay:block;\n",
       "\tmargin:16px;\n",
       "\t/*  background-image:url(images/background-h1-wood.jpg);  */\n",
       "}\n",
       "h3\n",
       "{\n",
       "\tfont-size: 14px; font-family:Arial, Helvetica, sans-serif; font-weight:lighter;\n",
       "\t/*  text-shadow: -1px -1px #0c0, 1px 1px #060, -3px 0 4px #000;*/\n",
       "\tcolor: #090; background-color: #FFAAFF;\n",
       "\tpadding:10px;\n",
       "\t-moz-box-shadow: 2px 2px 6px #888;  \n",
       "\t-webkit-box-shadow: 2px 2px 6px #888;  \n",
       "\tbox-shadow:2px 2px 6px #888;  \n",
       "\ttext-align:left;\n",
       "\tdisplay:block;\n",
       "\tmargin:16px;\n",
       "\t/*  background-image:url(images/background-h1-wood.jpg);  */\n",
       "}\n",
       "h4\n",
       "{\n",
       "\tfont-size: 12px; font-family:Arial, Helvetica, sans-serif;\n",
       "\t/*  text-shadow: -1px -1px #0c0, 1px 1px #060, -3px 0 4px #000;*/\n",
       "\tcolor: #090;\n",
       "\tpadding:8px;\n",
       "\tfont-weight:lighter;\n",
       "\t-moz-box-shadow: 2px 2px 6px #888;  \n",
       "\t-webkit-box-shadow: 2px 2px 6px #888;  \n",
       "\tbox-shadow:2px 2px 6px #888;  \n",
       "\ttext-align:left;\n",
       "\tdisplay:block;\n",
       "\tmargin:16px;\n",
       "\t/*  background-image:url(images/background-h1-wood.jpg);  */\n",
       "}\n",
       "/* Essai de compteurs */\n",
       "/* body {counter-reset: varh1 ; }*/\n",
       "/* h1{counter-reset: varh2 ;  }*/\n",
       "/* h1{counter-increment: varh1 ; }*/\n",
       "/* h1::before {content: counter(varh1, upper-roman) \". \";}*/\n",
       "/* h2{counter-reset: varh3 ;  }*/\n",
       "/* h2{counter-increment: varh2 ; }*/\n",
       "/* h2::before {content: counter(varh1, upper-roman) \".\" counter(varh2) \". \"; }*/\n",
       "/* h3{counter-increment: varh3 ; }*/\n",
       "/* h3::before {content: counter(varh1, upper-roman) \".\" counter(varh2) \".\" counter(varh3) \". \"; }*/\n",
       "\n",
       "/* Mise en forme des tables */\n",
       "table {\n",
       "\twidth:75%;\n",
       "\tborder-style:solid;\n",
       "\tborder-color:#0000FF;\n",
       "\tborder-width:2px;\n",
       "\tspacing:0;\n",
       "\tpadding:0;\n",
       "}\n",
       "th{ background-color: #90EE90; }\n",
       "td{ border-color:#99CCFF; color:#0000FF; background-color:#FFFF99; }\n",
       "\n",
       "</style>\n"
      ],
      "text/plain": [
       "<IPython.core.display.HTML object>"
      ]
     },
     "execution_count": 13,
     "metadata": {},
     "output_type": "execute_result"
    }
   ],
   "source": [
    "from IPython.core.display import HTML\n",
    "\n",
    "css_file = 'style.css'\n",
    "HTML(open(css_file, \"r\", encoding='utf8').read())"
   ]
  },
  {
   "cell_type": "markdown",
   "metadata": {},
   "source": [
    "# Quelques notions de base pour créer/utiliser des Notebooks Jupyter\n",
    "\n",
    "**Georges Landa (LAAS-CNRS, 2020)**"
   ]
  },
  {
   "cell_type": "markdown",
   "metadata": {},
   "source": [
    "## Introduction\n",
    "\n",
    "Jupyter est une application web qui rassemble 2 aspects :\n",
    "* un outil de mise en forme de document, texte, fichiers multimédias, code latex ...\n",
    "* une interface permettant d'exécuter du code informatique (Julia, Python, R, ... d'où le nom : Jupyter)"
   ]
  },
  {
   "cell_type": "markdown",
   "metadata": {},
   "source": [
    "## Notions de base\n",
    "\n",
    "Pour commencer, dans un terminal, lancer la ommande jupyter-notebook ou jupyter-lab\n",
    "\n",
    "Cliquer en haut (à côté du logo) pour lui donner un nom, ici TP_Jupyter, le fichier sera sauvé sous le nom TP_Jupyter.ipynb.\n",
    "\n",
    "Le notebook est composé de cellules. \n",
    "\n",
    "Chaque cellule peut contenir :\n",
    "* soit du texte mis en forme (cellules du type **Markdown**)\n",
    "* soit du code (cellule du type **Code**) à exécuter\n",
    "\n",
    "Chaque cellule possède deux modes :\n",
    "* Edition\n",
    "* Commande \n",
    "\n",
    "Le passage de l'un à l'autre se fait avec \\<ENTER\\> / \\<ESC\\>."
   ]
  },
  {
   "cell_type": "markdown",
   "metadata": {},
   "source": [
    "# Quelques raccourcis clavier"
   ]
  },
  {
   "cell_type": "markdown",
   "metadata": {},
   "source": [
    "## En mode \"commande\"\n",
    "\n",
    "Raccourcis |Action\n",
    "-|-\n",
    "[ESC] | Passe en mode commande\n",
    "[Enter] | Passe en mode édition \n",
    "-----------|-----------------------------------------------------------------------------------------------------\n",
    "m|Passe la cellule en mode Markdown\n",
    "y|Passe la cellule en mode Code\n",
    "[Ctrl-Enter] | Exécute la cellule\n",
    "[Shift-Enter] | Exécute la cellule et sélectionne la cellule suivante\n",
    "[Alt-Enter] | Exécute la cellule et insére une nouvelle cellule juste en dessous\n",
    "[Ctrl-S] ou S | Save and Checkpoint\n",
    "i i| Interrompt l'exécution du code.\n",
    "0 0| Redémarre l'interpréteur.\n",
    "a| Insère une nouvelle cellule, respectivement au-dessus de la cellule sélectionnée\n",
    "b| Insère une nouvelle cellule, respectivement au-dessous de la cellule sélectionnée\n",
    "x| Coupe la cellule sélectionnée\n",
    "c| Copie la cellule sélectionnée\n",
    "v| Colle la cellule copiée/coupée au-dessus\n",
    "[Shift-v]| Colle la cellule copiée/coupée au-dessous\n",
    "d d | Supprime la cellule sélectionnée\n",
    "z| Annule la dernière suppression de cellule\n",
    "\n",
    "***\n",
    "\n",
    "Raccourcis |Action\n",
    "-|-\n",
    "[Alt-Down] ou [Alt-Up] | Déplace la cellule selectionnée respectivement au-dessus ou en-dessous\n",
    "[Shift-Down] ou [Shift-Up] | Sélectionne la cellule respectivement au-dessus ou en-dessous\n",
    "[Shift-J] ou [Shift-K] | Etend la selection aux cellules respectivement au-dessus ou en-dessous\n",
    "[Shift-M] | Rassemble les cellules sélectionnées\n",
    "[Shift-space] ou [space] | Fait défiler le notebook vers le haut ou vers le bas\n",
    "F | Cherche et remplace\n",
    "L | Bascule les numéros de lignes\n",
    "[Shift-L] | Bascule les numéros de lignes pour toutes les cellules, sauve le choix\n",
    "O | Bascule la sortie des cellules sélectionnées\n",
    "[Shift-O] | Bascule le défilement des cellules de sortie sélectionnées\n",
    "H | Affiche la liste de tous les raccourcis clavier.\n",
    "[Shift-A] | Insère une cellule d'entête avant la cellule sélectionnée\n",
    "[Shift-B] |  Insère une cellule d'entête après la cellule sélectionnée"
   ]
  },
  {
   "cell_type": "markdown",
   "metadata": {},
   "source": [
    "## En mode \"édition\"\n",
    "\n",
    "Raccourcis |Action\n",
    "-|-\n",
    "[Tab] | Indente le texte sélectionné\n",
    "[Shift-Tab] | Désindente le texte sélectionné\n",
    "[Ctrl-A] | Sélectionne tout le texte de la cellule.\n",
    "[Ctrl-Z] | Annule les dernières saisies de texte.\n",
    "[Ctrl-Enter] | Exécute la cellule.\n",
    "[Shift-Enter] | Exécute la cellule et sélectionne la cellule suivante. L'appui répété de cette touche permet ainsi d'exécuter pas à pas toutes les cellules du notebook.\n",
    "[Alt-Enter] | Exécute la cellule et insére une nouvelle cellulejuste en dessous.\n",
    "[ESC] | Passe dans le mode commande"
   ]
  },
  {
   "cell_type": "markdown",
   "metadata": {},
   "source": [
    "# Syntaxe des Markdown"
   ]
  },
  {
   "cell_type": "markdown",
   "metadata": {},
   "source": [
    "## Entêtes\n",
    "\n",
    "\\# Ici on utilise un tag \\#  qui appelle \\< h1 \\> \n",
    "\n",
    "\\## Ici on utilise un tag \\#\\# qui appelle \\< h2 \\> \n",
    "\n",
    "\\###### Ici on utilise un tag \\#\\#\\#\\#\\#\\#  équivalent à \\< h6 \\>"
   ]
  },
  {
   "cell_type": "markdown",
   "metadata": {},
   "source": [
    "## Listes\n",
    "   \n",
    "### Simple avec le tag \\*\n",
    "\n",
    "* Item 1\n",
    "* Item 2\n",
    "    * Item 2a\n",
    "    * Item 2b\n",
    "\n",
    "### Ordonnée avec le tag 1., 2., ...\n",
    "\n",
    "1. Item 1\n",
    "2. Item 2\n",
    "3. Item 3\n",
    "    *  Item 3a\n",
    "    *  Item 3b\n",
    "\n",
    "## Listes cochées\n",
    "\n",
    "On utilise le tag **\\-**\n",
    "\n",
    "- [x] un item complet\n",
    "- [ ] un item incomplet\n",
    "- [x] @mentions, #refs, [liens](), **formattage**, et <del>barré</del> sont autorisés\n",
    "\n",
    "## Liste cochée\n",
    "\n",
    "On utilise le tag **\\-**\n",
    "\n",
    "- [x] un item complet\n",
    "- [ ] un item incomplet\n",
    "- [x] @mentions, #refs, [liens](), **formattage**, et <del>barré</del> sont autorisés\n",
    "\n",
    "\n",
    "\n",
    "## Insertion d'une image\n",
    "\n",
    "Pour inclure une image : utilise le tag : **\\!\\[Bloc_gris\\](./images/Block_grey.jpg)**\n",
    "\n",
    "\n",
    "![Bloc gris](./images/Block_grey.jpg)\n",
    "\n",
    "Remarque :\n",
    "si on veut redimensionner une image, on peut utiliser du code html directement, par exemple :\n",
    "\n",
    "```html\n",
    "    <img src =\"./images/Block_grey.jpg\" title = \"Block gris\" alt = \"Block gris\" width=\"200\"\\> \n",
    "```\n",
    "\n",
    "donne :\n",
    "\n",
    "<img src =\"./images/Block_grey.jpg\" title = \"Block gris\" alt = \"Block gris\" width=\"200\"> \n",
    "\n",
    "\n",
    "## Insertion de liens hypertextes\n",
    "\n",
    "L'insertion de lien peeut être faite sous deux formes :\n",
    "\n",
    "* automatique on écrit le lien dans le texte : par exemple http\\:\\/\\/www\\.laas\\.fr donne  http://www.laas.fr\n",
    "\n",
    "* avec le tag : **\\[Texte aternatif\\](url)** , par exemple  \\[LAAS/M3](https\\://www\\.laas\\.fr/public/fr/m3) donne [LAAS/M3](https://www.laas.fr/public/fr/m3)\n",
    "\n",
    "## Mise en forme\n",
    "\n",
    "Le texte placé entre \\* est mis en italique : *Texte en italique* ou entre \\_ ou entre \\_  :\n",
    "_Texte en italique_\n",
    "\n",
    "Le texte placé entre \\*\\* ou entre \\_\\_ est mis en gras , entre \\~\\~ il est barré\n",
    "\n",
    "**Ce texte est en gras**\n",
    "__Ce texte est en gras__\n",
    "\n",
    "~~Ce texte est barré~~\n",
    "\n",
    "On peut ***mélanger les deux, italique et gras !***\n",
    "\n",
    "## Inclure une citation\n",
    "\n",
    "Pour inclure une citation on utilise le tag **\\>**\n",
    "\n",
    "Comme je dis souvent :\n",
    "> Il vaut mieux prévenir que prévenir ...\n",
    "\n",
    "## Echappement de caractères\n",
    "\n",
    "Markdown autorise l'échappement des caractères qui sont utilisés pour le formattage.\n",
    "\n",
    "Ce sont les caractères :\n",
    "\n",
    "* \\\\ antislash\n",
    "* \\` accent grave\n",
    "* \\* astérisque\n",
    "* \\_ sousligné\n",
    "* \\{\\} accolades\n",
    "* \\[\\] crochets\n",
    "* \\(\\) parenthèses\n",
    "* \\# dièse\n",
    "* \\+ signe plus\n",
    "* \\- signe moins (tiret)\n",
    "* \\. point\n",
    "* \\! point d'exclamation\n",
    "\n",
    "## Utilisateur  @mention\n",
    "\n",
    "Le symbole @ suivi par le nom d'utilisateur Github permet d'attirer l'attention sur un commentaire particulier (ex: @landag).\n",
    "\n",
    "On peut aussi mentionner une organisation : @LAAS\n",
    "\n",
    "## Références\n",
    "\n",
    "Si un numéro fait référence à une question (forum), le lien correspondant est inséré :\n",
    "#1\n",
    "github-flavored-markdown#1\n",
    "defunkt/github-flavored-markdown#1\n",
    "\n",
    "## Tables\n",
    "\n",
    "On peut créer des tableaux en assemblant une liste de mots et les divisant avec des tirets - (pour la première ligne), puis en séparant chaque colonne avec une pipe | :\n",
    "\n",
    "Premier entête | Deuxième entête\n",
    "------------ | -------------\n",
    "ligne 1, colonne 1 | ligne 1, colonne 2\n",
    "ligne 2, colonne 1 | ligne 2, colonne 2\n",
    "\n",
    "## Filets ou barres de séparation\n",
    "\n",
    "Pour afficher un filet de séparation, il faut insérer \\*\\*\\* ou \\-\\-\\- sur une ligne entourée de deux lignes vides.\n",
    "\n",
    "exemple : ici, l'épaisseur et la couleur ont été modifiés dans la feuille de style (style.css)\n",
    "\n",
    "***"
   ]
  },
  {
   "cell_type": "markdown",
   "metadata": {},
   "source": [
    "# Exécuter du code Python\n",
    "\n",
    "## Code informatique et colorisation\n",
    "\n",
    "Si du texte est précédé de 4 \"espaces\", il est converti en bloc de code.\n",
    "\n",
    "    #import numpy as np\n",
    "    a = np.sqrt(3)\n",
    "\n",
    "\n",
    "On peut aussi utiliser ``` pour créer un bloc de code (sans les 4 espaces) et ajouter un indicateur du langage utilisé.\n",
    "\n",
    "```javascript\n",
    "function test() {\n",
    "console.log(\"look ma’, no spaces\");\n",
    "}\n",
    "```\n",
    "```c\n",
    "#include <stdio.h>\n",
    "main(){\n",
    "}\n",
    "```\n",
    "\n",
    "## On peut exécuter du code python dans les cellules"
   ]
  },
  {
   "cell_type": "code",
   "execution_count": 14,
   "metadata": {
    "ExecuteTime": {
     "end_time": "2021-01-14T12:57:55.709287Z",
     "start_time": "2021-01-14T12:57:55.700771Z"
    }
   },
   "outputs": [
    {
     "name": "stdout",
     "output_type": "stream",
     "text": [
      "6\n"
     ]
    }
   ],
   "source": [
    "a = 2*3\n",
    "# On peut introduire des commentaires\n",
    "print(a)"
   ]
  },
  {
   "cell_type": "code",
   "execution_count": 15,
   "metadata": {
    "ExecuteTime": {
     "end_time": "2021-01-14T12:57:55.726096Z",
     "start_time": "2021-01-14T12:57:55.714018Z"
    }
   },
   "outputs": [
    {
     "name": "stdout",
     "output_type": "stream",
     "text": [
      "[1 2 3]\n",
      "[1 2 3]\n",
      "14\n"
     ]
    }
   ],
   "source": [
    "# -*- coding: utf-8 -*-\n",
    "from numpy import array\n",
    "# définir un premier vecteur\n",
    "a = array([1, 2, 3])\n",
    "print(a)\n",
    "# définir un second vecteur\n",
    "b = array([1, 2, 3])\n",
    "print(b)\n",
    "# produit scalaire\n",
    "c = a.dot(b)\n",
    "print(c)"
   ]
  },
  {
   "cell_type": "code",
   "execution_count": 16,
   "metadata": {
    "ExecuteTime": {
     "end_time": "2021-01-14T12:57:56.041307Z",
     "start_time": "2021-01-14T12:57:55.730207Z"
    }
   },
   "outputs": [
    {
     "name": "stdout",
     "output_type": "stream",
     "text": [
      "valeur de l'intégrale = 0.500000, erreur en valeur absolue = 0.000000\n"
     ]
    }
   ],
   "source": [
    "# -*- coding: utf-8 -*-\n",
    "from scipy import integrate\n",
    "\n",
    "# definir une fonction simple à intégrer\n",
    "def f(x):\n",
    "    return x\n",
    "\n",
    "x_lower = 0 # borne inférieure de l'intégrale\n",
    "x_upper = 1 # borne supérieure de l'intégrale\n",
    "\n",
    "val, abserr = integrate.quad(f, x_lower, x_upper)\n",
    "\n",
    "print(\"valeur de l'intégrale = %f, erreur en valeur absolue = %f\" % (val, abserr))\n"
   ]
  },
  {
   "cell_type": "markdown",
   "metadata": {},
   "source": [
    " On peut obtenir un aide sur certaines fonctions, par exemple essayer la comande suivante dans une cellule code :\n",
    "?abs\n"
   ]
  },
  {
   "cell_type": "markdown",
   "metadata": {},
   "source": [
    "# Les commandes systèmes"
   ]
  },
  {
   "cell_type": "markdown",
   "metadata": {},
   "source": [
    "## Exécuter une commande shell  : !\n",
    "\n",
    "On utilise le **\\!**\n",
    "\n",
    "par exemple  : **!ls** permet de lister le répertoire"
   ]
  },
  {
   "cell_type": "markdown",
   "metadata": {},
   "source": [
    "## Les commandes magiques "
   ]
  },
  {
   "cell_type": "markdown",
   "metadata": {},
   "source": [
    "###  \\%matplotlib\n",
    "\n",
    "- **\\%matplotlib** (sans argument) : la sortie graphique est dirigée vers une nouvelle fenêtre\n",
    "\n",
    "- **\\%matplotlib inline** : la sortie graphique est affichée sous la cellule\n",
    "\n",
    "- **\\%matplotlib notebook** : la sortie graphique est affichée sous la cellule mais permet d'interagir avec la figure"
   ]
  },
  {
   "cell_type": "code",
   "execution_count": 5,
   "metadata": {
    "ExecuteTime": {
     "end_time": "2021-01-14T12:57:56.440310Z",
     "start_time": "2021-01-14T12:57:56.051052Z"
    }
   },
   "outputs": [
    {
     "data": {
      "image/png": "[encoded data removed]",
      "text/plain": [
       "<Figure size 432x288 with 1 Axes>"
      ]
     },
     "metadata": {
      "image/png": {
       "height": 248,
       "width": 380
      },
      "needs_background": "light"
     },
     "output_type": "display_data"
    }
   ],
   "source": [
    "%matplotlib inline\n",
    "import matplotlib.pyplot as plt\n",
    "import numpy as np\n",
    "x = np.arange(0.01,4*np.pi,0.1)\n",
    "y = np.sin(x)/x\n",
    "plt.plot(x,y)\n",
    "plt.show()\n"
   ]
  },
  {
   "cell_type": "markdown",
   "metadata": {},
   "source": [
    "### \\%connect_info \n",
    "\n",
    "La commande **\\%connect_info** renseigne sur la connexion utilisée"
   ]
  },
  {
   "cell_type": "markdown",
   "metadata": {},
   "source": [
    "### \\%autosave\n",
    "\n",
    "La commande **\\%autosave** sauvegarde le notebook toutes les 300 secondes."
   ]
  },
  {
   "cell_type": "markdown",
   "metadata": {},
   "source": [
    "## Les variables dans l'interpréteur Python\n",
    "\n",
    "**\\%who** et **\\%whos** affichent les objets définis\n",
    "\n",
    "\n",
    "**\\%reset** permet d'effacer les variables (avec -f : pas de confirmation)"
   ]
  },
  {
   "cell_type": "code",
   "execution_count": 6,
   "metadata": {
    "ExecuteTime": {
     "end_time": "2021-01-14T12:57:56.472895Z",
     "start_time": "2021-01-14T12:57:56.448308Z"
    }
   },
   "outputs": [
    {
     "name": "stdout",
     "output_type": "stream",
     "text": [
      "Variable    Type                          Data/Info\n",
      "---------------------------------------------------\n",
      "HTML        type                          <class 'IPython.core.display.HTML'>\n",
      "a           ndarray                       3: 3 elems, type `int64`, 24 bytes\n",
      "abserr      float                         5.551115123125783e-15\n",
      "array       builtin_function_or_method    <built-in function array>\n",
      "b           ndarray                       3: 3 elems, type `int64`, 24 bytes\n",
      "c           int64                         14\n",
      "css_file    str                           style.css\n",
      "f           function                      <function f at 0x7ff73bbe3620>\n",
      "integrate   module                        <module 'scipy.integrate'<...>y/integrate/__init__.py'>\n",
      "np          module                        <module 'numpy' from '/ho<...>kages/numpy/__init__.py'>\n",
      "plt         module                        <module 'matplotlib.pyplo<...>es/matplotlib/pyplot.py'>\n",
      "val         float                         0.5\n",
      "x           ndarray                       126: 126 elems, type `float64`, 1008 bytes\n",
      "x_lower     int                           0\n",
      "x_upper     int                           1\n",
      "y           ndarray                       126: 126 elems, type `float64`, 1008 bytes\n"
     ]
    }
   ],
   "source": [
    "%whos"
   ]
  },
  {
   "cell_type": "markdown",
   "metadata": {},
   "source": [
    "# La commande \\%lsmagic\n"
   ]
  },
  {
   "cell_type": "code",
   "execution_count": 7,
   "metadata": {
    "ExecuteTime": {
     "end_time": "2021-01-14T12:57:56.496838Z",
     "start_time": "2021-01-14T12:57:56.480121Z"
    }
   },
   "outputs": [
    {
     "data": {
      "application/json": {
       "cell": {
        "!": "OSMagics",
        "HTML": "Other",
        "SVG": "Other",
        "bash": "Other",
        "capture": "ExecutionMagics",
        "debug": "ExecutionMagics",
        "file": "Other",
        "html": "DisplayMagics",
        "javascript": "DisplayMagics",
        "js": "DisplayMagics",
        "latex": "DisplayMagics",
        "markdown": "DisplayMagics",
        "perl": "Other",
        "prun": "ExecutionMagics",
        "pypy": "Other",
        "python": "Other",
        "python2": "Other",
        "python3": "Other",
        "ruby": "Other",
        "script": "ScriptMagics",
        "sh": "Other",
        "svg": "DisplayMagics",
        "sx": "OSMagics",
        "system": "OSMagics",
        "time": "ExecutionMagics",
        "timeit": "ExecutionMagics",
        "writefile": "OSMagics"
       },
       "line": {
        "alias": "OSMagics",
        "alias_magic": "BasicMagics",
        "autoawait": "AsyncMagics",
        "autocall": "AutoMagics",
        "automagic": "AutoMagics",
        "autosave": "KernelMagics",
        "bookmark": "OSMagics",
        "cat": "Other",
        "cd": "OSMagics",
        "clear": "KernelMagics",
        "colors": "BasicMagics",
        "conda": "PackagingMagics",
        "config": "ConfigMagics",
        "connect_info": "KernelMagics",
        "cp": "Other",
        "debug": "ExecutionMagics",
        "dhist": "OSMagics",
        "dirs": "OSMagics",
        "doctest_mode": "BasicMagics",
        "ed": "Other",
        "edit": "KernelMagics",
        "env": "OSMagics",
        "gui": "BasicMagics",
        "hist": "Other",
        "history": "HistoryMagics",
        "killbgscripts": "ScriptMagics",
        "ldir": "Other",
        "less": "KernelMagics",
        "lf": "Other",
        "lk": "Other",
        "ll": "Other",
        "load": "CodeMagics",
        "load_ext": "ExtensionMagics",
        "loadpy": "CodeMagics",
        "logoff": "LoggingMagics",
        "logon": "LoggingMagics",
        "logstart": "LoggingMagics",
        "logstate": "LoggingMagics",
        "logstop": "LoggingMagics",
        "ls": "Other",
        "lsmagic": "BasicMagics",
        "lx": "Other",
        "macro": "ExecutionMagics",
        "magic": "BasicMagics",
        "man": "KernelMagics",
        "matplotlib": "PylabMagics",
        "mkdir": "Other",
        "more": "KernelMagics",
        "mv": "Other",
        "notebook": "BasicMagics",
        "page": "BasicMagics",
        "pastebin": "CodeMagics",
        "pdb": "ExecutionMagics",
        "pdef": "NamespaceMagics",
        "pdoc": "NamespaceMagics",
        "pfile": "NamespaceMagics",
        "pinfo": "NamespaceMagics",
        "pinfo2": "NamespaceMagics",
        "pip": "PackagingMagics",
        "popd": "OSMagics",
        "pprint": "BasicMagics",
        "precision": "BasicMagics",
        "prun": "ExecutionMagics",
        "psearch": "NamespaceMagics",
        "psource": "NamespaceMagics",
        "pushd": "OSMagics",
        "pwd": "OSMagics",
        "pycat": "OSMagics",
        "pylab": "PylabMagics",
        "qtconsole": "KernelMagics",
        "quickref": "BasicMagics",
        "recall": "HistoryMagics",
        "rehashx": "OSMagics",
        "reload_ext": "ExtensionMagics",
        "rep": "Other",
        "rerun": "HistoryMagics",
        "reset": "NamespaceMagics",
        "reset_selective": "NamespaceMagics",
        "rm": "Other",
        "rmdir": "Other",
        "run": "ExecutionMagics",
        "save": "CodeMagics",
        "sc": "OSMagics",
        "set_env": "OSMagics",
        "store": "StoreMagics",
        "sx": "OSMagics",
        "system": "OSMagics",
        "tb": "ExecutionMagics",
        "time": "ExecutionMagics",
        "timeit": "ExecutionMagics",
        "unalias": "OSMagics",
        "unload_ext": "ExtensionMagics",
        "who": "NamespaceMagics",
        "who_ls": "NamespaceMagics",
        "whos": "NamespaceMagics",
        "xdel": "NamespaceMagics",
        "xmode": "BasicMagics"
       }
      },
      "text/plain": [
       "Available line magics:\n",
       "%alias  %alias_magic  %autoawait  %autocall  %automagic  %autosave  %bookmark  %cat  %cd  %clear  %colors  %conda  %config  %connect_info  %cp  %debug  %dhist  %dirs  %doctest_mode  %ed  %edit  %env  %gui  %hist  %history  %killbgscripts  %ldir  %less  %lf  %lk  %ll  %load  %load_ext  %loadpy  %logoff  %logon  %logstart  %logstate  %logstop  %ls  %lsmagic  %lx  %macro  %magic  %man  %matplotlib  %mkdir  %more  %mv  %notebook  %page  %pastebin  %pdb  %pdef  %pdoc  %pfile  %pinfo  %pinfo2  %pip  %popd  %pprint  %precision  %prun  %psearch  %psource  %pushd  %pwd  %pycat  %pylab  %qtconsole  %quickref  %recall  %rehashx  %reload_ext  %rep  %rerun  %reset  %reset_selective  %rm  %rmdir  %run  %save  %sc  %set_env  %store  %sx  %system  %tb  %time  %timeit  %unalias  %unload_ext  %who  %who_ls  %whos  %xdel  %xmode\n",
       "\n",
       "Available cell magics:\n",
       "%%!  %%HTML  %%SVG  %%bash  %%capture  %%debug  %%file  %%html  %%javascript  %%js  %%latex  %%markdown  %%perl  %%prun  %%pypy  %%python  %%python2  %%python3  %%ruby  %%script  %%sh  %%svg  %%sx  %%system  %%time  %%timeit  %%writefile\n",
       "\n",
       "Automagic is ON, % prefix IS NOT needed for line magics."
      ]
     },
     "execution_count": 7,
     "metadata": {},
     "output_type": "execute_result"
    }
   ],
   "source": [
    "%lsmagic"
   ]
  },
  {
   "cell_type": "markdown",
   "metadata": {},
   "source": [
    "On peut insérer du texte écrit en LaTeX :\n",
    "\n",
    "```latex\n",
    "$$\\int_a^b f(x)dx $$ \n",
    "```\n",
    "\n",
    "$$\\int_a^b f(x)dx $$ \n",
    "\n",
    "%%latex\n",
    "Une équation très importante : $E = mc^2$ ;\n",
    "\n",
    "Toutes les mathématiques : $e^{i \\pi} = -1$\n",
    "\n",
    "\n",
    "\n",
    "%%HTML\n",
    "This is <em>really</em> neat!"
   ]
  },
  {
   "cell_type": "markdown",
   "metadata": {},
   "source": [
    "## Les variables d'environnement\n",
    "\n",
    "Pour les afficher : **\\%env**\n",
    "\n",
    "%env\n",
    "\n",
    "## Executer un programme python ou un notebook\n",
    "\n",
    "On utilise la commande **\\%run**\n",
    "\n",
    "\\%run programme.py\n",
    "\n",
    "ou\n",
    "\n",
    "\\%run notebook.ipynb\n",
    "\n",
    "\n",
    "\n",
    "## Chargement de code externe\n",
    "\n",
    "La commande **\\%load** permet de charger un fichier externe dans la cellule, le code sera ensuite exécuté avec les touches **\\< ctrl \\> \\< enter \\>**. Vous pouvez soit utiliser un fichier sur votre ordinateur comme source, soit une URL.\n",
    "\n",
    "## Passage de variables entre notebooks\n",
    "\n",
    "La commande **\\%store** permet de stocker une variable d'un notebook_A pour la charger dans un autre notebookb_B\n",
    "\n",
    "1. Dans le notebook_A : data = 'Ceci est une chaîne de caractère à passer entre 2 notebooks'\n",
    "2. %store data (le système répond : Stored 'data' (str))\n",
    "3. del data # Ceci efface la variable du notebook_A\n",
    "4. Dans le nouveau notebook_B : %store -r data\n",
    "5. print(data) : affiche le contenu de data dans le notebook_B\n",
    "\n",
    "\n",
    "## Mesure du temps d'exécution \n",
    "\n",
    "1. La commande **\\%\\%time** : donne des informations sur une seule exécution du code dans la cellule"
   ]
  },
  {
   "cell_type": "code",
   "execution_count": 9,
   "metadata": {
    "ExecuteTime": {
     "end_time": "2021-01-14T12:58:06.715023Z",
     "start_time": "2021-01-14T12:57:56.531951Z"
    }
   },
   "outputs": [
    {
     "name": "stdout",
     "output_type": "stream",
     "text": [
      "CPU times: user 54.3 ms, sys: 9.6 ms, total: 63.9 ms\n",
      "Wall time: 10.2 s\n"
     ]
    }
   ],
   "source": [
    "%%time\n",
    "import time\n",
    "for _ in range(1000):\n",
    "    time.sleep(0.01) # sleep for 0.01 seconds"
   ]
  },
  {
   "cell_type": "markdown",
   "metadata": {},
   "source": [
    "2. La commande **\\%timeit** utilise le module Python timeit qui exécute une instruction 100 000 fois (par défaut) et fournit ensuite la moyenne des trois temps les plus rapides\n"
   ]
  },
  {
   "cell_type": "code",
   "execution_count": 10,
   "metadata": {
    "ExecuteTime": {
     "end_time": "2021-01-14T12:58:15.484188Z",
     "start_time": "2021-01-14T12:58:06.724674Z"
    }
   },
   "outputs": [
    {
     "name": "stdout",
     "output_type": "stream",
     "text": [
      "8.68 µs ± 581 ns per loop (mean ± std. dev. of 7 runs, 100000 loops each)\n"
     ]
    }
   ],
   "source": [
    "import numpy\n",
    "%timeit numpy.random.normal(size=100)"
   ]
  },
  {
   "cell_type": "markdown",
   "metadata": {},
   "source": [
    "# Import / Export de code\n",
    "\n",
    "## Importation de code : \\%pycat\n",
    "\n",
    "**\\%pycat ~/python/EXEMPLES/lorentz.py** va afficher une fenêtre avec le programme indiqué, on peut ensuite faire des copier/coller\n"
   ]
  },
  {
   "cell_type": "markdown",
   "metadata": {
    "ExecuteTime": {
     "end_time": "2021-01-14T08:31:57.361953Z",
     "start_time": "2021-01-14T08:31:57.348300Z"
    }
   },
   "source": [
    "%pycat ~/python/EXEMPLES/lorentz.py"
   ]
  },
  {
   "cell_type": "markdown",
   "metadata": {},
   "source": [
    "## Export de code : \\%\\%writefile\n",
    "\n",
    "**\\%\\%writefile prog.py** va exporter la cellule courante dans prog.py\n"
   ]
  },
  {
   "cell_type": "code",
   "execution_count": 11,
   "metadata": {
    "ExecuteTime": {
     "end_time": "2021-01-14T12:58:15.498835Z",
     "start_time": "2021-01-14T12:58:15.492490Z"
    }
   },
   "outputs": [
    {
     "name": "stdout",
     "output_type": "stream",
     "text": [
      "Overwriting prog.py\n"
     ]
    }
   ],
   "source": [
    "%%writefile prog.py \n",
    "import matplotlib.pyplot as plt\n",
    "import numpy as np\n",
    "x=np.linspace(-5,5,100)\n",
    "plt.plot(x,np.sin(x))  # on utilise la fonction sinus de Numpy\n",
    "plt.ylabel('fonction sinus')\n",
    "plt.xlabel(\"l'axe des abcisses\")\n",
    "plt.show()"
   ]
  },
  {
   "cell_type": "markdown",
   "metadata": {},
   "source": [
    "# Temps d'exécution dans les fonctions : \\%prun\n",
    "\n",
    "**\\%prun nom_instruction** donne un tableau ordonné indiquant le nombre de fois que chaque fonction interne a été appelée dans l'instruction, le temps pris par chaque appel ainsi que le temps cumulé de toutes les exécutions de la fonction\n"
   ]
  },
  {
   "cell_type": "code",
   "execution_count": 12,
   "metadata": {
    "ExecuteTime": {
     "end_time": "2021-01-14T12:58:15.556674Z",
     "start_time": "2021-01-14T12:58:15.503971Z"
    },
    "scrolled": true
   },
   "outputs": [
    {
     "name": "stdout",
     "output_type": "stream",
     "text": [
      "0.0\n",
      " 0.8414709848078965\n",
      " 0.9092974268256817\n",
      " 0.1411200080598672\n",
      " -0.7568024953079282\n",
      " -0.9589242746631385\n",
      " -0.27941549819892586\n",
      " 0.6569865987187891\n",
      " 0.9893582466233818\n",
      " 0.4121184852417566\n",
      " "
     ]
    },
    {
     "data": {
      "text/plain": [
       "         30 function calls in 0.000 seconds\n",
       "\n",
       "   Ordered by: internal time\n",
       "\n",
       "   ncalls  tottime  percall  cumtime  percall filename:lineno(function)\n",
       "        1    0.000    0.000    0.000    0.000 {built-in method builtins.exec}\n",
       "        1    0.000    0.000    0.000    0.000 <string>:1(<module>)\n",
       "        2    0.000    0.000    0.000    0.000 socket.py:438(send)\n",
       "        1    0.000    0.000    0.000    0.000 {built-in method builtins.print}\n",
       "        2    0.000    0.000    0.000    0.000 iostream.py:384(write)\n",
       "        2    0.000    0.000    0.000    0.000 iostream.py:195(schedule)\n",
       "        2    0.000    0.000    0.000    0.000 iostream.py:308(_is_master_process)\n",
       "        2    0.000    0.000    0.000    0.000 threading.py:1062(_wait_for_tstate_lock)\n",
       "        2    0.000    0.000    0.000    0.000 threading.py:1104(is_alive)\n",
       "        2    0.000    0.000    0.000    0.000 {built-in method posix.getpid}\n",
       "        2    0.000    0.000    0.000    0.000 iostream.py:91(_event_pipe)\n",
       "        2    0.000    0.000    0.000    0.000 {method 'acquire' of '_thread.lock' objects}\n",
       "        2    0.000    0.000    0.000    0.000 {method 'append' of 'collections.deque' objects}\n",
       "        2    0.000    0.000    0.000    0.000 {built-in method builtins.isinstance}\n",
       "        2    0.000    0.000    0.000    0.000 iostream.py:321(_schedule_flush)\n",
       "        2    0.000    0.000    0.000    0.000 threading.py:506(is_set)\n",
       "        1    0.000    0.000    0.000    0.000 {method 'disable' of '_lsprof.Profiler' objects}"
      ]
     },
     "metadata": {},
     "output_type": "display_data"
    }
   ],
   "source": [
    "import numpy as np\n",
    "for _ in range(10):\n",
    "    %prun print(np.sin(_))\n"
   ]
  },
  {
   "cell_type": "markdown",
   "metadata": {},
   "source": [
    "## Utilisation du débogueur de python : \\%pdb\n",
    "\n",
    "lancer **\\%pdb** en début de cellule\n"
   ]
  },
  {
   "cell_type": "markdown",
   "metadata": {},
   "source": [
    "## Passage en mode haute-résolution (retina)\n",
    "\n",
    "Utile pour les écrans qui le permettent (MacBook)\n",
    "\n",
    "**\\%config InlineBackend.figure_format ='retina'**\n"
   ]
  },
  {
   "cell_type": "code",
   "execution_count": 13,
   "metadata": {
    "ExecuteTime": {
     "end_time": "2021-01-14T12:58:16.086388Z",
     "start_time": "2021-01-14T12:58:15.568513Z"
    },
    "scrolled": true
   },
   "outputs": [
    {
     "data": {
      "image/png": "[encoded data removed]",
      "text/plain": [
       "<Figure size 432x288 with 1 Axes>"
      ]
     },
     "metadata": {
      "image/png": {
       "height": 258,
       "width": 372
      },
      "needs_background": "light"
     },
     "output_type": "display_data"
    }
   ],
   "source": [
    "%matplotlib inline\n",
    "%config InlineBackend.figure_format ='retina'\n",
    "\n",
    "import matplotlib.pyplot as plt\n",
    "x = range(1000)\n",
    "y = [i ** 2 for i in x]\n",
    "plt.plot(x,y)\n",
    "plt.show();"
   ]
  },
  {
   "cell_type": "markdown",
   "metadata": {},
   "source": [
    "## Suppression de l'affichage lié à la dernière instruction \n",
    "\n",
    "Parfois, il est pratique de supprimer la sortie de la fonction sur une dernière ligne, par exemple lors du traçage. Pour ce faire, vous ajoutez simplement un **point-virgule** à la fin."
   ]
  },
  {
   "cell_type": "code",
   "execution_count": 14,
   "metadata": {
    "ExecuteTime": {
     "end_time": "2021-01-14T12:58:16.448882Z",
     "start_time": "2021-01-14T12:58:16.090160Z"
    }
   },
   "outputs": [
    {
     "data": {
      "image/png": "[encoded data removed]",
      "text/plain": [
       "<Figure size 432x288 with 1 Axes>"
      ]
     },
     "metadata": {
      "image/png": {
       "height": 248,
       "width": 375
      },
      "needs_background": "light"
     },
     "output_type": "display_data"
    }
   ],
   "source": [
    "%matplotlib inline\n",
    "from matplotlib import pyplot as plt\n",
    "import numpy\n",
    "\n",
    "x = numpy.linspace(0, 1, 1000)**1.5\n",
    "\n",
    "# Here you get the output of the function\n",
    "plt.hist(x);"
   ]
  },
  {
   "cell_type": "markdown",
   "metadata": {},
   "source": [
    "# Partager son notebook\n",
    "\n",
    "Il y a deux aspects dans le partage :\n",
    "\n",
    "1. Partage du notebook final, souvent non-interactif, la mise en forme est ternimée \n",
    "\n",
    "2. Partager via un système de contrôle de version, par exemple Git, plutôt lorsque le notebook est en cours de construction, ou un travail partagé\n",
    "\n",
    "Avant le partage, il est prudent de nettoyer et raffraîchir les cellules :\n",
    "\n",
    "* Cliquez sur \"Cellule -> Toutes les sorties -> Effacer\"\n",
    "* Cliquez sur \"Noyau -> Redémarrer et exécuter tout\"\n",
    "* Vérifier le résultat des cellules\n",
    "\n",
    "\n",
    "##  Exporter dans les formats de base\n",
    "\n",
    "Jupyter a un support intégré pour l'export au format HTML, LaTeX, Python et PDF ainsi que plusieurs autres formats.\n",
    "Voir le menu : \n",
    "\n",
    "\n",
    "\"Fichier -> Télécharger au format\". \n",
    "\n",
    "## Exporter via GitHub\n",
    "\n",
    "Une solution élégante pour le partage est d'utiliser la plateforme GitHub (il faut un compte). GitHub a intégré la prise en charge du rendu des fichiers .ipynb directement à la fois dans les référentiels et les Gists sur son site Web. \n",
    "\n",
    "rem : un Gist est un dépôt Git, ce qui signifie qu'il peut être bifurqué et cloné. Les informations peuvent être publiques ou secrètes.\n",
    "\n",
    "Lorsqu'on a un compte GitHub, le moyen le plus simple de partager un notebook ne nécessite pas du tout Git. GitHub fournit son service Gist pour l'hébergement et le partage d'extraits de code, qui obtiennent chacun leur propre référentiel. Pour partager un notebook à l'aide de Gists:\n",
    "\n",
    "1. Connectez-vous et accédez à gist.github.com\n",
    "2. Ouvrir votre fichier .ipynb dans un éditeur de texte, sélectionnez tout et copiez le code JSON\n",
    "3. Collez le bloc-notes JSON dans le Gist\n",
    "4. Donnez à votre Gist un nom de fichier, en pensant à ajouter .iypnb (ou cela ne fonctionnera pas)\n",
    "5. Cliquez sur \"Créer un gist secret\" ou \"Créer un gist public\"\n",
    "\n",
    "Si le gist est public, vous pourrez désormais partager son URL avec n'importe qui, il pourra être forké et cloné. \n",
    "\n",
    "astuce : .gitignore pour éviter de copier les répertoires cachés .ipynb_checkpoints créés par Jupyter\n",
    "\n",
    "GitHub possède son propre moteur de rendu pour notebooks Jupyter.\n",
    "\n",
    "## Exporter via Nbviewer\n",
    "\n",
    "Nbviewer est un moteur de rendu de notebooks. Si vous avez déjà un endroit pour héberger vos notebooks Jupyter en ligne, que ce soit GitHub ou ailleurs, NBViewer fournira une URL partageable. C'est un service gratuit du projet Jupyter.\n",
    "\n",
    "Il est disponible sur **nbviewer.jupyter.org**\n",
    "\n",
    "NBViewer permet à quiconque de saisir une URL, un identifiant Gist ou un nom d'utilisateur / dépôt / fichier GitHub et il restituera le notebook comme une page Web. \n",
    "\n",
    "L'ID d'un Gist est le numéro unique à la fin de son URL; par exemple, la chaîne de caractères après la dernière barre oblique inverse dans https://gist.github.com/username/50896401c23e0bf417e89cd57e89e1de. \n",
    "\n",
    "Si vous entrez un nom d'utilisateur GitHub ou un nom d'utilisateur / référentiel, vous verrez un navigateur de fichiers minimal qui vous permet d'explorer les dépôts d'un utilisateur et leur contenu.\n",
    "\n",
    "L'URL que NBViewer affiche lors de l'affichage d'un notebook est une constante basée sur l'URL du notebook qu'il rend, vous pouvez donc le partager avec n'importe qui et cela fonctionnera tant que les fichiers d'origine resteront en ligne - NBViewer ne garde pas les fichiers en cache très longtemps.\n",
    "\n"
   ]
  },
  {
   "cell_type": "markdown",
   "metadata": {},
   "source": [
    "# Divers"
   ]
  },
  {
   "cell_type": "markdown",
   "metadata": {},
   "source": [
    "## Affichage des données"
   ]
  },
  {
   "cell_type": "code",
   "execution_count": 15,
   "metadata": {
    "ExecuteTime": {
     "end_time": "2021-01-14T12:58:16.833192Z",
     "start_time": "2021-01-14T12:58:16.452596Z"
    },
    "scrolled": true
   },
   "outputs": [
    {
     "data": {
      "text/html": [
       "<div>\n",
       "<style scoped>\n",
       "    .dataframe tbody tr th:only-of-type {\n",
       "        vertical-align: middle;\n",
       "    }\n",
       "\n",
       "    .dataframe tbody tr th {\n",
       "        vertical-align: top;\n",
       "    }\n",
       "\n",
       "    .dataframe thead th {\n",
       "        text-align: right;\n",
       "    }\n",
       "</style>\n",
       "<table border=\"1\" class=\"dataframe\">\n",
       "  <thead>\n",
       "    <tr style=\"text-align: right;\">\n",
       "      <th></th>\n",
       "      <th>lat</th>\n",
       "      <th>long</th>\n",
       "      <th>depth</th>\n",
       "      <th>mag</th>\n",
       "      <th>stations</th>\n",
       "    </tr>\n",
       "  </thead>\n",
       "  <tbody>\n",
       "    <tr>\n",
       "      <th>996</th>\n",
       "      <td>-25.93</td>\n",
       "      <td>179.54</td>\n",
       "      <td>470</td>\n",
       "      <td>4.4</td>\n",
       "      <td>22</td>\n",
       "    </tr>\n",
       "    <tr>\n",
       "      <th>997</th>\n",
       "      <td>-12.28</td>\n",
       "      <td>167.06</td>\n",
       "      <td>248</td>\n",
       "      <td>4.7</td>\n",
       "      <td>35</td>\n",
       "    </tr>\n",
       "    <tr>\n",
       "      <th>998</th>\n",
       "      <td>-20.13</td>\n",
       "      <td>184.20</td>\n",
       "      <td>244</td>\n",
       "      <td>4.5</td>\n",
       "      <td>34</td>\n",
       "    </tr>\n",
       "    <tr>\n",
       "      <th>999</th>\n",
       "      <td>-17.40</td>\n",
       "      <td>187.80</td>\n",
       "      <td>40</td>\n",
       "      <td>4.5</td>\n",
       "      <td>14</td>\n",
       "    </tr>\n",
       "    <tr>\n",
       "      <th>1000</th>\n",
       "      <td>-21.59</td>\n",
       "      <td>170.56</td>\n",
       "      <td>165</td>\n",
       "      <td>6.0</td>\n",
       "      <td>119</td>\n",
       "    </tr>\n",
       "  </tbody>\n",
       "</table>\n",
       "</div>"
      ],
      "text/plain": [
       "        lat    long  depth  mag  stations\n",
       "996  -25.93  179.54    470  4.4        22\n",
       "997  -12.28  167.06    248  4.7        35\n",
       "998  -20.13  184.20    244  4.5        34\n",
       "999  -17.40  187.80     40  4.5        14\n",
       "1000 -21.59  170.56    165  6.0       119"
      ]
     },
     "execution_count": 15,
     "metadata": {},
     "output_type": "execute_result"
    }
   ],
   "source": [
    "from IPython.core.interactiveshell import InteractiveShell\n",
    "InteractiveShell.ast_node_interactivity = \"all\"\n",
    "from pydataset import data\n",
    "quakes = data('quakes')\n",
    "quakes.head()\n",
    "quakes.tail()"
   ]
  },
  {
   "cell_type": "markdown",
   "metadata": {},
   "source": [
    "## Appel à la documentation\n",
    "\n",
    "On peut utiliser la syntaxe : **\\?str.replace()** pour afficher la doc sur replace()"
   ]
  },
  {
   "cell_type": "code",
   "execution_count": 3,
   "metadata": {
    "ExecuteTime": {
     "end_time": "2021-01-14T12:58:16.841494Z",
     "start_time": "2021-01-14T12:58:16.836122Z"
    }
   },
   "outputs": [
    {
     "name": "stdout",
     "output_type": "stream",
     "text": [
      "Object `str.replace()` not found.\n"
     ]
    }
   ],
   "source": [
    "?str.replace()"
   ]
  },
  {
   "cell_type": "markdown",
   "metadata": {},
   "source": [
    "## Nombre de processeurs"
   ]
  },
  {
   "cell_type": "code",
   "execution_count": 17,
   "metadata": {
    "ExecuteTime": {
     "end_time": "2021-01-14T12:58:16.857873Z",
     "start_time": "2021-01-14T12:58:16.845699Z"
    }
   },
   "outputs": [
    {
     "name": "stdout",
     "output_type": "stream",
     "text": [
      "4\n"
     ]
    }
   ],
   "source": [
    "import multiprocessing\n",
    "print(multiprocessing.cpu_count())"
   ]
  },
  {
   "cell_type": "markdown",
   "metadata": {},
   "source": [
    "## LaTeX"
   ]
  },
  {
   "cell_type": "markdown",
   "metadata": {},
   "source": [
    "Il faut entourer le code LaTeX avec des \\$ :\n",
    "\n",
    "$e^{i\\pi} + 1 = 0$"
   ]
  },
  {
   "cell_type": "code",
   "execution_count": null,
   "metadata": {},
   "outputs": [],
   "source": []
  },
  {
   "cell_type": "code",
   "execution_count": null,
   "metadata": {},
   "outputs": [],
   "source": []
  }
 ],
 "metadata": {
  "kernelspec": {
   "display_name": "Python 3",
   "language": "python",
   "name": "python3"
  },
  "language_info": {
   "codemirror_mode": {
    "name": "ipython",
    "version": 3
   },
   "file_extension": ".py",
   "mimetype": "text/x-python",
   "name": "python",
   "nbconvert_exporter": "python",
   "pygments_lexer": "ipython3",
   "version": "3.6.9"
  },
  "toc": {
   "base_numbering": 1,
   "nav_menu": {},
   "number_sections": false,
   "sideBar": true,
   "skip_h1_title": false,
   "title_cell": "Table of Contents",
   "title_sidebar": "Contents",
   "toc_cell": true,
   "toc_position": {
    "height": "calc(100% - 180px)",
    "left": "10px",
    "top": "150px",
    "width": "165px"
   },
   "toc_section_display": true,
   "toc_window_display": false
  },
  "toc-autonumbering": true,
  "toc-showcode": false,
  "toc-showmarkdowntxt": true,
  "toc-showtags": false
 },
 "nbformat": 4,
 "nbformat_minor": 4
}
